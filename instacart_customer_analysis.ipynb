{
 "cells": [
  {
   "cell_type": "markdown",
   "id": "d2c4b469",
   "metadata": {},
   "source": [
    "# ¡Hola, David!  \n",
    "\n",
    "Mi nombre es Carlos Ortiz, soy code reviewer de TripleTen y voy a revisar el proyecto que acabas de desarrollar.\n",
    "\n",
    "Cuando vea un error la primera vez, lo señalaré. Deberás encontrarlo y arreglarlo. La intención es que te prepares para un espacio real de trabajo. En un trabajo, el líder de tu equipo hará lo mismo. Si no puedes solucionar el error, te daré más información en la próxima ocasión. \n",
    "\n",
    "Encontrarás mis comentarios más abajo - **por favor, no los muevas, no los modifiques ni los borres**.\n",
    "\n",
    "¿Cómo lo voy a hacer? Voy a leer detenidamente cada una de las implementaciones que has llevado a cabo para cumplir con lo solicitado. Verás los comentarios de esta forma:\n",
    "\n",
    "<div class=\"alert alert-block alert-success\">\n",
    "<b>Comentario del revisor</b> <a class=\"tocSkip\"></a>\n",
    "    \n",
    "Si todo está perfecto.\n",
    "</div>\n",
    "\n",
    "\n",
    "<div class=\"alert alert-block alert-warning\">\n",
    "<b>Comentario del revisor</b> <a class=\"tocSkip\"></a>\n",
    "    \n",
    "Si tu código está bien pero se puede mejorar o hay algún detalle que le hace falta.\n",
    "</div>\n",
    "\n",
    "\n",
    "<div class=\"alert alert-block alert-danger\">\n",
    "    \n",
    "<b>Comentario del revisor</b> <a class=\"tocSkip\"></a>\n",
    "    \n",
    "    \n",
    "Si de pronto hace falta algo o existe algún problema con tu código o conclusiones.\n",
    "</div>\n",
    "\n",
    "\n",
    "Puedes responderme de esta forma: \n",
    "\n",
    "\n",
    "<div class=\"alert alert-block alert-info\">\n",
    "<b>Respuesta del estudiante</b> <a class=\"tocSkip\"></a>\n",
    "</div>\n",
    "¡Empecemos!"
   ]
  },
  {
   "cell_type": "markdown",
   "id": "3Xg_RQfnafXz",
   "metadata": {
    "id": "3Xg_RQfnafXz"
   },
   "source": [
    "# ¡Llena ese carrito!"
   ]
  },
  {
   "cell_type": "markdown",
   "id": "mhIvmmkW414q",
   "metadata": {
    "id": "mhIvmmkW414q"
   },
   "source": [
    "# Introducción\n",
    "\n",
    "Instacart es una plataforma de entregas de comestibles donde la clientela puede registrar un pedido y hacer que se lo entreguen, similar a Uber Eats y Door Dash.\n",
    "El conjunto de datos que te hemos proporcionado tiene modificaciones del original. Redujimos el tamaño del conjunto para que tus cálculos se hicieran más rápido e introdujimos valores ausentes y duplicados. Tuvimos cuidado de conservar las distribuciones de los datos originales cuando hicimos los cambios.\n",
    "\n",
    "Debes completar tres pasos. Para cada uno de ellos, escribe una breve introducción que refleje con claridad cómo pretendes resolver cada paso, y escribe párrafos explicatorios que justifiquen tus decisiones al tiempo que avanzas en tu solución.  También escribe una conclusión que resuma tus hallazgos y elecciones.\n"
   ]
  },
  {
   "cell_type": "markdown",
   "id": "3MbyzpOQZ5Or",
   "metadata": {
    "id": "3MbyzpOQZ5Or"
   },
   "source": [
    "## Diccionario de datos\n",
    "\n",
    "Hay cinco tablas en el conjunto de datos, y tendrás que usarlas todas para hacer el preprocesamiento de datos y el análisis exploratorio de datos. A continuación se muestra un diccionario de datos que enumera las columnas de cada tabla y describe los datos que contienen.\n",
    "\n",
    "- `instacart_orders.csv`: cada fila corresponde a un pedido en la aplicación Instacart.\n",
    "    - `'order_id'`: número de ID que identifica de manera única cada pedido.\n",
    "    - `'user_id'`: número de ID que identifica de manera única la cuenta de cada cliente.\n",
    "    - `'order_number'`: el número de veces que este cliente ha hecho un pedido.\n",
    "    - `'order_dow'`: día de la semana en que se hizo el pedido (0 si es domingo).\n",
    "    - `'order_hour_of_day'`: hora del día en que se hizo el pedido.\n",
    "    - `'days_since_prior_order'`: número de días transcurridos desde que este cliente hizo su pedido anterior.\n",
    "- `products.csv`: cada fila corresponde a un producto único que pueden comprar los clientes.\n",
    "    - `'product_id'`: número ID que identifica de manera única cada producto.\n",
    "    - `'product_name'`: nombre del producto.\n",
    "    - `'aisle_id'`: número ID que identifica de manera única cada categoría de pasillo de víveres.\n",
    "    - `'department_id'`: número ID que identifica de manera única cada departamento de víveres.\n",
    "- `order_products.csv`: cada fila corresponde a un artículo pedido en un pedido.\n",
    "    - `'order_id'`: número de ID que identifica de manera única cada pedido.\n",
    "    - `'product_id'`: número ID que identifica de manera única cada producto.\n",
    "    - `'add_to_cart_order'`: el orden secuencial en el que se añadió cada artículo en el carrito.\n",
    "    - `'reordered'`: 0 si el cliente nunca ha pedido este producto antes, 1 si lo ha pedido.\n",
    "- `aisles.csv`\n",
    "    - `'aisle_id'`: número ID que identifica de manera única cada categoría de pasillo de víveres.\n",
    "    - `'aisle'`: nombre del pasillo.\n",
    "- `departments.csv`\n",
    "    - `'department_id'`: número ID que identifica de manera única cada departamento de víveres.\n",
    "    - `'department'`: nombre del departamento."
   ]
  },
  {
   "cell_type": "markdown",
   "id": "n3Ha_cNSZ8lK",
   "metadata": {
    "id": "n3Ha_cNSZ8lK"
   },
   "source": [
    "# Paso 1. Descripción de los datos\n",
    "\n",
    "Lee los archivos de datos (`/datasets/instacart_orders.csv`, `/datasets/products.csv`, `/datasets/aisles.csv`, `/datasets/departments.csv` y `/datasets/order_products.csv`) con `pd.read_csv()` usando los parámetros adecuados para leer los datos correctamente. Verifica la información para cada DataFrame creado.\n"
   ]
  },
  {
   "cell_type": "markdown",
   "id": "OmlQPLlyaAfR",
   "metadata": {
    "id": "OmlQPLlyaAfR"
   },
   "source": [
    "## Plan de solución\n",
    "\n",
    "Escribe aquí tu plan de solución para el Paso 1. Descripción de los datos."
   ]
  },
  {
   "cell_type": "code",
   "execution_count": 509,
   "id": "3416b682",
   "metadata": {},
   "outputs": [],
   "source": [
    "import pandas as pd\n",
    "import numpy as np\n",
    "from matplotlib import pyplot as plt"
   ]
  },
  {
   "cell_type": "code",
   "execution_count": 510,
   "id": "ad36396d",
   "metadata": {
    "id": "ad36396d"
   },
   "outputs": [],
   "source": [
    "# leer conjuntos de datos en los DataFrames\n",
    "instacart_orders = pd.read_csv(\"/datasets/instacart_orders.csv\",sep = \";\")\n",
    "products = pd.read_csv(\"/datasets/products.csv\",sep = \";\")\n",
    "aisles = pd.read_csv(\"/datasets/aisles.csv\", sep = \";\")\n",
    "departments = pd.read_csv(\"/datasets/departments.csv\", sep = \";\")\n",
    "order_products = pd.read_csv(\"/datasets/order_products.csv\", sep = \";\")"
   ]
  },
  {
   "cell_type": "markdown",
   "id": "995ffd94",
   "metadata": {},
   "source": [
    "<div class=\"alert alert-block alert-success\">\n",
    "<b>Comentario del revisor</b> <a class=\"tocSkip\"></a>\n",
    "    \n",
    "Buen trabajo con la importación de datos y de librerías.\n",
    "</div>"
   ]
  },
  {
   "cell_type": "code",
   "execution_count": 511,
   "id": "ad6a1efa",
   "metadata": {
    "id": "ad6a1efa"
   },
   "outputs": [
    {
     "name": "stdout",
     "output_type": "stream",
     "text": [
      "   order_id  user_id  order_number  order_dow  order_hour_of_day  \\\n",
      "0   1515936   183418            11          6                 13   \n",
      "1   1690866   163593             5          5                 12   \n",
      "2   1454967    39980             4          5                 19   \n",
      "3   1768857    82516            56          0                 20   \n",
      "4   3007858   196724             2          4                 12   \n",
      "\n",
      "   days_since_prior_order  \n",
      "0                    30.0  \n",
      "1                     9.0  \n",
      "2                     2.0  \n",
      "3                    10.0  \n",
      "4                    17.0  \n",
      "<class 'pandas.core.frame.DataFrame'>\n",
      "RangeIndex: 478967 entries, 0 to 478966\n",
      "Data columns (total 6 columns):\n",
      " #   Column                  Non-Null Count   Dtype  \n",
      "---  ------                  --------------   -----  \n",
      " 0   order_id                478967 non-null  int64  \n",
      " 1   user_id                 478967 non-null  int64  \n",
      " 2   order_number            478967 non-null  int64  \n",
      " 3   order_dow               478967 non-null  int64  \n",
      " 4   order_hour_of_day       478967 non-null  int64  \n",
      " 5   days_since_prior_order  450148 non-null  float64\n",
      "dtypes: float64(1), int64(5)\n",
      "memory usage: 21.9 MB\n"
     ]
    }
   ],
   "source": [
    "# mostrar información del DataFrame\n",
    "print(instacart_orders.head())\n",
    "instacart_orders.info()"
   ]
  },
  {
   "cell_type": "code",
   "execution_count": 512,
   "id": "5130e05e",
   "metadata": {
    "id": "5130e05e"
   },
   "outputs": [
    {
     "name": "stdout",
     "output_type": "stream",
     "text": [
      "   product_id                                       product_name  aisle_id  \\\n",
      "0           1                         Chocolate Sandwich Cookies        61   \n",
      "1           2                                   All-Seasons Salt       104   \n",
      "2           3               Robust Golden Unsweetened Oolong Tea        94   \n",
      "3           4  Smart Ones Classic Favorites Mini Rigatoni Wit...        38   \n",
      "4           5                          Green Chile Anytime Sauce         5   \n",
      "\n",
      "   department_id  \n",
      "0             19  \n",
      "1             13  \n",
      "2              7  \n",
      "3              1  \n",
      "4             13  \n",
      "<class 'pandas.core.frame.DataFrame'>\n",
      "RangeIndex: 49694 entries, 0 to 49693\n",
      "Data columns (total 4 columns):\n",
      " #   Column         Non-Null Count  Dtype \n",
      "---  ------         --------------  ----- \n",
      " 0   product_id     49694 non-null  int64 \n",
      " 1   product_name   48436 non-null  object\n",
      " 2   aisle_id       49694 non-null  int64 \n",
      " 3   department_id  49694 non-null  int64 \n",
      "dtypes: int64(3), object(1)\n",
      "memory usage: 1.5+ MB\n"
     ]
    }
   ],
   "source": [
    "# mostrar información del DataFrame\n",
    "print(products.head())\n",
    "products.info()"
   ]
  },
  {
   "cell_type": "code",
   "execution_count": 513,
   "id": "d8370c05",
   "metadata": {
    "id": "d8370c05"
   },
   "outputs": [
    {
     "name": "stdout",
     "output_type": "stream",
     "text": [
      "   aisle_id                       aisle\n",
      "0         1       prepared soups salads\n",
      "1         2           specialty cheeses\n",
      "2         3         energy granola bars\n",
      "3         4               instant foods\n",
      "4         5  marinades meat preparation\n",
      "<class 'pandas.core.frame.DataFrame'>\n",
      "RangeIndex: 134 entries, 0 to 133\n",
      "Data columns (total 2 columns):\n",
      " #   Column    Non-Null Count  Dtype \n",
      "---  ------    --------------  ----- \n",
      " 0   aisle_id  134 non-null    int64 \n",
      " 1   aisle     134 non-null    object\n",
      "dtypes: int64(1), object(1)\n",
      "memory usage: 2.2+ KB\n"
     ]
    }
   ],
   "source": [
    "# mostrar información del DataFrame\n",
    "print(aisles.head())\n",
    "aisles.info()"
   ]
  },
  {
   "cell_type": "code",
   "execution_count": 514,
   "id": "59e2090f",
   "metadata": {
    "id": "59e2090f"
   },
   "outputs": [
    {
     "name": "stdout",
     "output_type": "stream",
     "text": [
      "   department_id department\n",
      "0              1     frozen\n",
      "1              2      other\n",
      "2              3     bakery\n",
      "3              4    produce\n",
      "4              5    alcohol\n",
      "<class 'pandas.core.frame.DataFrame'>\n",
      "RangeIndex: 21 entries, 0 to 20\n",
      "Data columns (total 2 columns):\n",
      " #   Column         Non-Null Count  Dtype \n",
      "---  ------         --------------  ----- \n",
      " 0   department_id  21 non-null     int64 \n",
      " 1   department     21 non-null     object\n",
      "dtypes: int64(1), object(1)\n",
      "memory usage: 464.0+ bytes\n"
     ]
    }
   ],
   "source": [
    "# mostrar información del DataFrame\n",
    "print(departments.head())\n",
    "departments.info()"
   ]
  },
  {
   "cell_type": "code",
   "execution_count": 515,
   "id": "6fc81694",
   "metadata": {
    "id": "6fc81694"
   },
   "outputs": [
    {
     "name": "stdout",
     "output_type": "stream",
     "text": [
      "   order_id  product_id  add_to_cart_order  reordered\n",
      "0   2141543       11440               17.0          0\n",
      "1    567889        1560                1.0          1\n",
      "2   2261212       26683                1.0          1\n",
      "3    491251        8670               35.0          1\n",
      "4   2571142        1940                5.0          1\n",
      "<class 'pandas.core.frame.DataFrame'>\n",
      "RangeIndex: 4545007 entries, 0 to 4545006\n",
      "Data columns (total 4 columns):\n",
      " #   Column             Non-Null Count    Dtype  \n",
      "---  ------             --------------    -----  \n",
      " 0   order_id           4545007 non-null  int64  \n",
      " 1   product_id         4545007 non-null  int64  \n",
      " 2   add_to_cart_order  4544171 non-null  float64\n",
      " 3   reordered          4545007 non-null  int64  \n",
      "dtypes: float64(1), int64(3)\n",
      "memory usage: 138.7 MB\n"
     ]
    }
   ],
   "source": [
    "# mostrar información del DataFrame\n",
    "print(order_products.head())\n",
    "order_products.info(show_counts=True)"
   ]
  },
  {
   "cell_type": "markdown",
   "id": "t75BD19oaR5f",
   "metadata": {
    "id": "t75BD19oaR5f"
   },
   "source": [
    "## Conclusiones\n",
    "\n",
    "Escribe aquí tus conclusiones intermedias sobre el Paso 1. Descripción de los datos.\n",
    "\n",
    "Después de una revisión preliminar de cada archivo \".cvs\" encontre lo siguiente de cada uno:\n",
    "\n",
    "**instacart_orders.csv**\n",
    "\n",
    "* La base esta con un formato que no se puede analizar, si bien el formato cvs alude que la separación es mediante comas, en este caso estaba separada con este simbolo \";\" además no estaba realmente separada sino todas los datos estaban en las filas. Para arreglar esto, pase el parametro sep= cuando leí el archivo como el commando read_cvs.\n",
    "\n",
    "* Las columnas order_dow y oder_hour_of_day estan son tipo de dato integer, al tratarse de fechas y horas respecticamente, tal vez sea conveniente pasarlas al tipo datetime, mas adelante veremos si se necesita.\n",
    "\n",
    "* La columna days_since_prior_order tiene 28,819 valores NaN.\n",
    "\n",
    "**products.csv**\n",
    "\n",
    "* La base esta con un formato que no se puede analizar, si bien el formato cvs alude que la separación es mediante comas, en este caso estaba separada con este simbolo \";\" además no estaba realmente separada sino todas los datos estaban en las filas. Para arreglar esto, pase el parametro sep= cuando leí el archivo como el commando read_cvs.\n",
    "\n",
    "* La columna product_name tiene 1,258 valores NaN.\n",
    "\n",
    "**aisles.csv**\n",
    "\n",
    "* La base esta con un formato que no se puede analizar, si bien el formato cvs alude que la separación es mediante comas, en este caso estaba separada con este simbolo \";\" además no estaba realmente separada sino todas los datos estaban en las filas. Para arreglar esto, pase el parametro sep= cuando leí el archivo como el commando read_cvs.\n",
    "\n",
    "* No tenemos valores NaN.\n",
    "\n",
    "**departments.csv**\n",
    "\n",
    "* La base esta con un formato que no se puede analizar, si bien el formato cvs alude que la separación es mediante comas, en este caso estaba separada con este simbolo \";\" además no estaba realmente separada sino todas los datos estaban en las filas. Para arreglar esto, pase el parametro sep= cuando leí el archivo como el commando read_cvs.\n",
    "\n",
    "* No tenemos valores NaN.\n",
    "\n",
    "**order_products.csv**\n",
    "\n",
    "* La base esta con un formato que no se puede analizar, si bien el formato cvs alude que la separación es mediante comas, en este caso estaba separada con este simbolo \";\" además no estaba realmente separada sino todas los datos estaban en las filas. Para arreglar esto, pase el parametro sep= cuando leí el archivo como el commando read_cvs.\n",
    "\n",
    "* Posiblemente algunas columnas tengamos que cambiarlas a strings, si bien al parecer no afecta que esten en integer porque no haremos cálculos aritéticos con ellas, en el transcurso del proyecto se verá si es necesario o no.\n",
    "\n",
    "* La columna add_to_cart_order tiene 836 valores ausentes.\n",
    "\n",
    "\n",
    "\n",
    "\n"
   ]
  },
  {
   "cell_type": "markdown",
   "id": "e7191d5d",
   "metadata": {},
   "source": [
    " <div class=\"alert alert-block alert-success\">\n",
    "<b>Comentario del revisor</b> <a class=\"tocSkip\"></a>\n",
    "    \n",
    "Has hecho bien con esta exploración inicial de datos y la lectura de los problemas.\n",
    "</div>"
   ]
  },
  {
   "cell_type": "markdown",
   "id": "8RJHqxVmaVsF",
   "metadata": {
    "id": "8RJHqxVmaVsF"
   },
   "source": [
    "# Paso 2. Preprocesamiento de los datos\n",
    "\n",
    "Preprocesa los datos de la siguiente manera:\n",
    "\n",
    "- Verifica y corrige los tipos de datos (por ejemplo, asegúrate de que las columnas de ID sean números enteros).\n",
    "- Identifica y completa los valores ausentes.\n",
    "- Identifica y elimina los valores duplicados.\n",
    "\n",
    "Asegúrate de explicar qué tipos de valores ausentes y duplicados encontraste, cómo los completaste o eliminaste y por qué usaste esos métodos. ¿Por qué crees que estos valores ausentes y duplicados pueden haber estado presentes en el conjunto de datos?"
   ]
  },
  {
   "cell_type": "markdown",
   "id": "p6poABZQaZYb",
   "metadata": {
    "id": "p6poABZQaZYb"
   },
   "source": [
    "## Plan de solución\n",
    "\n",
    "Escribe aquí tu plan para el Paso 2. Preprocesamiento de los datos."
   ]
  },
  {
   "cell_type": "markdown",
   "id": "07357848-dc64-4156-9cc3-01ff4365226d",
   "metadata": {
    "id": "07357848-dc64-4156-9cc3-01ff4365226d"
   },
   "source": [
    "## Encuentra y elimina los valores duplicados (y describe cómo tomaste tus decisiones)."
   ]
  },
  {
   "cell_type": "markdown",
   "id": "f179f0a9",
   "metadata": {
    "id": "f179f0a9"
   },
   "source": [
    "### `instacart_orders` data frame"
   ]
  },
  {
   "cell_type": "code",
   "execution_count": 516,
   "id": "b99297a5-405a-463d-8535-9adc3da4ad74",
   "metadata": {
    "id": "b99297a5-405a-463d-8535-9adc3da4ad74"
   },
   "outputs": [
    {
     "name": "stdout",
     "output_type": "stream",
     "text": [
      "Hay 15 pedidos duplicados\n",
      "\n",
      "        order_id  user_id  order_number  order_dow  order_hour_of_day  \\\n",
      "371905    391768    57671            19          3                  2   \n",
      "321100    408114    68324             4          3                  2   \n",
      "394347    467134    63189            21          3                  2   \n",
      "145574    794638    50898            24          3                  2   \n",
      "311713   1021560    53767             3          3                  2   \n",
      "273805   1112182   202304            84          3                  2   \n",
      "411408   1286742   183220            48          3                  2   \n",
      "266232   1782114   106752             1          3                  2   \n",
      "230807   1918001   188546            14          3                  2   \n",
      "323900   1919531   191501            32          3                  2   \n",
      "441599   2125197    14050            48          3                  2   \n",
      "223105   2160484   107525            16          3                  2   \n",
      "345917   2232988    82565             1          3                  2   \n",
      "415163   2282673    86751            49          3                  2   \n",
      "284038   2845099    31189            11          3                  2   \n",
      "\n",
      "        days_since_prior_order  \n",
      "371905                    10.0  \n",
      "321100                    18.0  \n",
      "394347                     2.0  \n",
      "145574                     2.0  \n",
      "311713                     9.0  \n",
      "273805                     6.0  \n",
      "411408                     4.0  \n",
      "266232                     NaN  \n",
      "230807                    16.0  \n",
      "323900                     7.0  \n",
      "441599                     3.0  \n",
      "223105                    30.0  \n",
      "345917                     NaN  \n",
      "415163                     2.0  \n",
      "284038                     7.0  \n"
     ]
    }
   ],
   "source": [
    "# Revisa si hay pedidos duplicados\n",
    "\n",
    "orders_duplicated = instacart_orders[\"order_id\"].duplicated().sum()\n",
    "print(\"Hay\",orders_duplicated,\"pedidos duplicados\")\n",
    "print()\n",
    "orders_duplicated = instacart_orders[instacart_orders[\"order_id\"].duplicated()].sort_values(\"order_id\").head(15)\n",
    "print(orders_duplicated)\n",
    "\n"
   ]
  },
  {
   "cell_type": "markdown",
   "id": "PEkwUX_gvt5A",
   "metadata": {
    "id": "PEkwUX_gvt5A"
   },
   "source": [
    "¿Tienes líneas duplicadas? Si sí, ¿qué tienen en común?\n",
    "\n",
    "Si, tenemos 15 filas duplicadas. Todas se realizaron el miércoles a las 2 de la tarde."
   ]
  },
  {
   "cell_type": "code",
   "execution_count": 517,
   "id": "0d44de5d",
   "metadata": {
    "id": "0d44de5d",
    "scrolled": true
   },
   "outputs": [
    {
     "name": "stdout",
     "output_type": "stream",
     "text": [
      "       order_id  user_id  order_number  order_dow  order_hour_of_day  \\\n",
      "4838    2766110   162084            41          3                  2   \n",
      "5156    2190225   138285            18          3                  2   \n",
      "15506    553049    58599            13          3                  2   \n",
      "18420    382357   120200            19          3                  2   \n",
      "24691    690242    77357             2          3                  2   \n",
      "\n",
      "       days_since_prior_order  \n",
      "4838                     16.0  \n",
      "5156                     11.0  \n",
      "15506                     7.0  \n",
      "18420                    11.0  \n",
      "24691                     9.0  \n"
     ]
    }
   ],
   "source": [
    "# Basándote en tus hallazgos,\n",
    "# Verifica todos los pedidos que se hicieron el miércoles a las 2:00 a.m.\n",
    "wed_orders = instacart_orders[(instacart_orders[\"order_dow\"] == 3) & (instacart_orders[\"order_hour_of_day\"] == 2)].head()\n",
    "print(wed_orders)"
   ]
  },
  {
   "cell_type": "markdown",
   "id": "vu2OWyoqwOx5",
   "metadata": {
    "id": "vu2OWyoqwOx5"
   },
   "source": [
    "¿Qué sugiere este resultado?\n",
    "\n",
    "El día miércoles a las 2:00 am cinco clientes hicieron un pedido ( con base en su user_id que es un idenificador unico de cada cliente). Uno de ellos ya ha comprado 41 veces , tres de ellos han comprado entre 19 y 18 veces, y solo uno ha comprado 2 veces."
   ]
  },
  {
   "cell_type": "code",
   "execution_count": 518,
   "id": "480563c7",
   "metadata": {
    "id": "480563c7"
   },
   "outputs": [
    {
     "name": "stdout",
     "output_type": "stream",
     "text": [
      "order_id                  15\n",
      "user_id                   15\n",
      "order_number              15\n",
      "order_dow                 15\n",
      "order_hour_of_day         15\n",
      "days_since_prior_order    13\n",
      "dtype: int64\n"
     ]
    }
   ],
   "source": [
    "# Elimina los pedidos duplicados\n",
    "# Primero revise con base en la columna order_id en que columnas había duplicados.\n",
    "order_insta_duplicated = instacart_orders[instacart_orders[\"order_id\"].duplicated()].sort_values(\"order_id\")\n",
    "print(order_insta_duplicated.count())\n",
    "\n",
    "\n",
    "\n",
    "\n",
    "\n"
   ]
  },
  {
   "cell_type": "code",
   "execution_count": 519,
   "id": "6a0f778e",
   "metadata": {},
   "outputs": [
    {
     "name": "stdout",
     "output_type": "stream",
     "text": [
      "        order_id  user_id  order_number  order_dow  order_hour_of_day  \\\n",
      "0        1515936   183418            11          6                 13   \n",
      "1        1690866   163593             5          5                 12   \n",
      "2        1454967    39980             4          5                 19   \n",
      "3        1768857    82516            56          0                 20   \n",
      "4        3007858   196724             2          4                 12   \n",
      "...          ...      ...           ...        ...                ...   \n",
      "478962   3210681     5617             5          1                 14   \n",
      "478963   3270802   112087             2          3                 13   \n",
      "478964    885349    82944            16          2                 11   \n",
      "478965    216274     4391             3          3                  8   \n",
      "478966   2071924     1730            18          1                 14   \n",
      "\n",
      "        days_since_prior_order  \n",
      "0                         30.0  \n",
      "1                          9.0  \n",
      "2                          2.0  \n",
      "3                         10.0  \n",
      "4                         17.0  \n",
      "...                        ...  \n",
      "478962                     7.0  \n",
      "478963                     6.0  \n",
      "478964                     6.0  \n",
      "478965                     8.0  \n",
      "478966                    15.0  \n",
      "\n",
      "[478952 rows x 6 columns]\n"
     ]
    }
   ],
   "source": [
    "# Aplique esta función para eliminar los duplicados en la columna \"order_id\"\n",
    "instacart_orders = instacart_orders.drop_duplicates(subset=\"order_id\")\n",
    "print(instacart_orders)"
   ]
  },
  {
   "cell_type": "code",
   "execution_count": 520,
   "id": "0b2396a2",
   "metadata": {
    "id": "0b2396a2"
   },
   "outputs": [
    {
     "name": "stdout",
     "output_type": "stream",
     "text": [
      "0\n"
     ]
    }
   ],
   "source": [
    "# Vuelve a verificar si hay filas duplicadas\n",
    "duplicated_rows = instacart_orders.duplicated().sum()\n",
    "print(duplicated_rows)"
   ]
  },
  {
   "cell_type": "code",
   "execution_count": 521,
   "id": "f6113ef1",
   "metadata": {
    "id": "f6113ef1"
   },
   "outputs": [
    {
     "name": "stdout",
     "output_type": "stream",
     "text": [
      "order_id                  0\n",
      "user_id                   0\n",
      "order_number              0\n",
      "order_dow                 0\n",
      "order_hour_of_day         0\n",
      "days_since_prior_order    0\n",
      "dtype: int64\n"
     ]
    }
   ],
   "source": [
    "# Vuelve a verificar únicamente si hay IDs duplicados de pedidos\n",
    "order_insta_duplicated = instacart_orders[instacart_orders[\"order_id\"].duplicated()].sort_values(\"order_id\")\n",
    "print(order_insta_duplicated.count())\n"
   ]
  },
  {
   "cell_type": "markdown",
   "id": "5e8905ae",
   "metadata": {
    "id": "5e8905ae"
   },
   "source": [
    "Describe brevemente tus hallazgos y lo que hiciste con ellos\n",
    "\n",
    "Revisé los pedidos duplicados con base en la columna \"order_id\" del dataframe inscart_orders. Descubrimos que había en total 15, y que todos se hicieron el día miércoles a las 2 de la tarde, sería interesante ver que sucedió ese dia. Después, eliminamos esos valores para que solo tuvieramos valores únicos en la columna \"order_id\" y esto nos ayude en los siguientes análisis.\n",
    "\n"
   ]
  },
  {
   "cell_type": "markdown",
   "id": "45e6bc46",
   "metadata": {
    "id": "45e6bc46"
   },
   "source": [
    "### `products` data frame"
   ]
  },
  {
   "cell_type": "code",
   "execution_count": 522,
   "id": "5f526b5b-8175-46fa-a0fd-441767d50e64",
   "metadata": {
    "id": "5f526b5b-8175-46fa-a0fd-441767d50e64"
   },
   "outputs": [
    {
     "name": "stdout",
     "output_type": "stream",
     "text": [
      "0\n"
     ]
    }
   ],
   "source": [
    "# Verifica si hay filas totalmente duplicadas\n",
    "print(products.duplicated().sum())\n",
    "\n"
   ]
  },
  {
   "cell_type": "code",
   "execution_count": 523,
   "id": "88daa4f4",
   "metadata": {
    "id": "88daa4f4"
   },
   "outputs": [
    {
     "name": "stdout",
     "output_type": "stream",
     "text": [
      "49673\n"
     ]
    }
   ],
   "source": [
    "# Revisa únicamente si hay ID de departamentos duplicados\n",
    "print(products[\"department_id\"].duplicated().sum())\n"
   ]
  },
  {
   "cell_type": "code",
   "execution_count": 524,
   "id": "c773f0bf",
   "metadata": {
    "id": "c773f0bf"
   },
   "outputs": [
    {
     "name": "stdout",
     "output_type": "stream",
     "text": [
      "1361\n"
     ]
    }
   ],
   "source": [
    "# Revisa únicamente si hay nombres duplicados de productos (convierte los nombres a letras mayúsculas para compararlos mejor)\n",
    "print(products[\"product_name\"].str.upper().duplicated().sum())"
   ]
  },
  {
   "cell_type": "code",
   "execution_count": 525,
   "id": "01efd02e",
   "metadata": {
    "id": "01efd02e"
   },
   "outputs": [
    {
     "name": "stdout",
     "output_type": "stream",
     "text": [
      "104\n"
     ]
    }
   ],
   "source": [
    "# Revisa si hay nombres duplicados de productos no faltantes\n",
    "not_na_products = products[~products[\"product_name\"].isna()]\n",
    "duplicated_products = not_na_products[\"product_name\"].str.upper().duplicated().sum()\n",
    "print(duplicated_products)\n",
    "\n",
    "\n"
   ]
  },
  {
   "cell_type": "markdown",
   "id": "9da8d293",
   "metadata": {
    "id": "9da8d293"
   },
   "source": [
    "Describe brevemente tus hallazgos y lo que hiciste con ellos.\n",
    "\n",
    "* Hay 49673 ID´s duplicados de la columna \"department_id\" que identifica cada departamento de viveres. En esta columna no hay valores faltantes, entonces, el analisis no esta sesgado por estos valores, a diferencia del análisis de la columna de nombre de productos que se menciona a continuación.\n",
    "\n",
    "* Hay 1361 nombre duplicados de productos, sin embargo, ese análisis se hizo considerando tanto las céldas con strings como con valores faltantes. Despúes , se hizo el mismo análisis pero quitando los valores faltantes, y el resultado fue de 104. Esto es importante, porque demuestra como los valores faltantes pueden afectar el análisis y enviarnos resultados que se pueden malinterpretar. \n"
   ]
  },
  {
   "cell_type": "markdown",
   "id": "c9f1ea26",
   "metadata": {},
   "source": [
    " <div class=\"alert alert-block alert-success\">\n",
    "<b>Comentario del revisor</b> <a class=\"tocSkip\"></a>\n",
    "    \n",
    "¡Perfecto!\n",
    "</div>"
   ]
  },
  {
   "cell_type": "markdown",
   "id": "60f30db1",
   "metadata": {
    "id": "60f30db1"
   },
   "source": [
    "### `departments` data frame"
   ]
  },
  {
   "cell_type": "code",
   "execution_count": 526,
   "id": "fb410ad4-0fbf-4b80-bb09-23fdea79afe3",
   "metadata": {
    "id": "fb410ad4-0fbf-4b80-bb09-23fdea79afe3"
   },
   "outputs": [
    {
     "name": "stdout",
     "output_type": "stream",
     "text": [
      "0\n"
     ]
    }
   ],
   "source": [
    "# Revisa si hay filas totalmente duplicadas\n",
    "print(departments.duplicated().sum())"
   ]
  },
  {
   "cell_type": "code",
   "execution_count": 527,
   "id": "332b12bb",
   "metadata": {
    "id": "332b12bb"
   },
   "outputs": [
    {
     "name": "stdout",
     "output_type": "stream",
     "text": [
      "0\n"
     ]
    }
   ],
   "source": [
    "# Revisa únicamente si hay IDs duplicadas de productos\n",
    "print(departments[\"department_id\"].duplicated().sum())"
   ]
  },
  {
   "cell_type": "markdown",
   "id": "bd30d78e",
   "metadata": {
    "id": "bd30d78e"
   },
   "source": [
    "Describe brevemente tus hallazgos y lo que hiciste con ellos.\n",
    "\n",
    "No hay filas totalmente iguales y tampoco hay IDs duplicados en la \"columna department_id\""
   ]
  },
  {
   "cell_type": "markdown",
   "id": "889349c1",
   "metadata": {
    "id": "889349c1"
   },
   "source": [
    "### `aisles` data frame"
   ]
  },
  {
   "cell_type": "code",
   "execution_count": 528,
   "id": "9da89fb9-4679-40f5-ad0d-c34df753a3f8",
   "metadata": {
    "id": "9da89fb9-4679-40f5-ad0d-c34df753a3f8"
   },
   "outputs": [
    {
     "name": "stdout",
     "output_type": "stream",
     "text": [
      "0\n"
     ]
    }
   ],
   "source": [
    "# Revisa si hay filas totalmente duplicadas\n",
    "print(aisles.duplicated().sum())"
   ]
  },
  {
   "cell_type": "code",
   "execution_count": 529,
   "id": "da7c2822",
   "metadata": {
    "id": "da7c2822"
   },
   "outputs": [
    {
     "name": "stdout",
     "output_type": "stream",
     "text": [
      "0\n"
     ]
    }
   ],
   "source": [
    "# Revisa únicamente si hay IDs duplicadas de productos\n",
    "print(aisles[\"aisle_id\"].duplicated().sum())"
   ]
  },
  {
   "cell_type": "markdown",
   "id": "ac63826f",
   "metadata": {
    "id": "ac63826f"
   },
   "source": [
    "Describe brevemente tus hallazgos y lo que hiciste con ellos.\n",
    "\n",
    "No hay filas totalmente iguales y tampoco hay IDs duplicados en la columna \"aisle_id\""
   ]
  },
  {
   "cell_type": "markdown",
   "id": "274cd06a",
   "metadata": {
    "id": "274cd06a"
   },
   "source": [
    "### `order_products` data frame"
   ]
  },
  {
   "cell_type": "code",
   "execution_count": 530,
   "id": "52326689-84a8-4b8f-a881-7c68780f62c9",
   "metadata": {
    "id": "52326689-84a8-4b8f-a881-7c68780f62c9"
   },
   "outputs": [
    {
     "name": "stdout",
     "output_type": "stream",
     "text": [
      "0\n"
     ]
    }
   ],
   "source": [
    "# Revisa si hay filas totalmente duplicadas\n",
    "print(order_products.duplicated().sum())"
   ]
  },
  {
   "cell_type": "code",
   "execution_count": 531,
   "id": "7b861391",
   "metadata": {
    "id": "7b861391"
   },
   "outputs": [
    {
     "name": "stdout",
     "output_type": "stream",
     "text": [
      "         order_id  product_id  add_to_cart_order  reordered\n",
      "2834230         4       26434                2.0          1\n",
      "1420535         4       10054                5.0          1\n",
      "2507695         4       17616               10.0          1\n",
      "1295279         4       39758                3.0          1\n",
      "1299531         4       32645               12.0          1\n",
      "1172585         4       22598                7.0          1\n",
      "3977678         4       21351                6.0          1\n",
      "2502556         4       41276               13.0          1\n",
      "4107072         4       40285                9.0          1\n",
      "1169276         4       27761                4.0          1\n",
      "\n",
      "         order_id  product_id  add_to_cart_order  reordered\n",
      "4266839   1983366           1               13.0          0\n",
      "528900    1773146           1                6.0          1\n",
      "3985558   1977647           1                1.0          1\n",
      "4390924    161236           1                4.0          0\n",
      "1113333   1484430           1                7.0          1\n",
      "2542291   1813466           1                4.0          0\n",
      "4317597   1191429           1                6.0          0\n",
      "2603476   3154038           1                9.0          1\n",
      "900137     659679           1                2.0          1\n",
      "4084401   2659963           1                1.0          0\n",
      "\n",
      "         order_id  product_id  add_to_cart_order  reordered\n",
      "2         2261212       26683                1.0          1\n",
      "3301166   2766304        6178                1.0          0\n",
      "859602    2034336       17191                1.0          1\n",
      "3301164   2681901       13176                1.0          1\n",
      "3301161   2758947       23572                1.0          1\n",
      "3301158   1152584       32141                1.0          1\n",
      "3301148   1086024       34217                1.0          1\n",
      "859617     562709       46402                1.0          1\n",
      "859625    2224151       37594                1.0          1\n",
      "859591     112772       47766                1.0          1\n",
      "\n",
      "         order_id  product_id  add_to_cart_order  reordered\n",
      "4545006   1398151       28733                9.0          0\n",
      "3538729   1727179       44359               21.0          0\n",
      "3538731   2385739       44096                6.0          0\n",
      "1704079   2542272       27845                4.0          0\n",
      "1704076    875557       39877                2.0          0\n",
      "1704075   1408962       21553               10.0          0\n",
      "1704073   1795602       21979                3.0          0\n",
      "3538735    406728        7649                5.0          0\n",
      "3538736   2508003       40706               14.0          0\n",
      "1704070   1422741       21616                1.0          0\n"
     ]
    }
   ],
   "source": [
    "# Vuelve a verificar si hay cualquier otro duplicado engañoso\n",
    "print(order_products[order_products[\"order_id\"].duplicated()].sort_values(\"order_id\").head(10))\n",
    "print()\n",
    "print(order_products[order_products[\"product_id\"].duplicated()].sort_values(\"product_id\").head(10))\n",
    "print()\n",
    "print(order_products[order_products[\"add_to_cart_order\"].duplicated()].sort_values(\"add_to_cart_order\").head(10))\n",
    "print()\n",
    "print(order_products[order_products[\"reordered\"].duplicated()].sort_values(\"reordered\").head(10))"
   ]
  },
  {
   "cell_type": "markdown",
   "id": "0b890492",
   "metadata": {
    "id": "0b890492"
   },
   "source": [
    "Describe brevemente tus hallazgos y lo que hiciste con ellos.\n",
    "\n",
    "No hay filas totalmente iguales y en el caso de las columnas analizadas de forma individual si los hay, sin embargo, es normal, ya que con base en lo que representa cada columna es normal que se repitan."
   ]
  },
  {
   "cell_type": "markdown",
   "id": "0bc205b7",
   "metadata": {},
   "source": [
    " <div class=\"alert alert-block alert-success\">\n",
    "<b>Comentario del revisor</b> <a class=\"tocSkip\"></a>\n",
    "    \n",
    "Muy buen trabajo en esta sección.\n",
    "</div>"
   ]
  },
  {
   "cell_type": "markdown",
   "id": "1e46de76",
   "metadata": {
    "id": "1e46de76"
   },
   "source": [
    "## Encuentra y elimina los valores ausentes\n",
    "\n",
    "Al trabajar con valores duplicados, pudimos observar que también nos falta investigar valores ausentes:\n",
    "\n",
    "* La columna `'product_name'` de la tabla products.\n",
    "* La columna `'days_since_prior_order'` de la tabla orders.\n",
    "* La columna `'add_to_cart_order'` de la tabla order_productos."
   ]
  },
  {
   "cell_type": "markdown",
   "id": "c0aebd78",
   "metadata": {
    "id": "c0aebd78"
   },
   "source": [
    "### `products` data frame"
   ]
  },
  {
   "cell_type": "code",
   "execution_count": 532,
   "id": "fe4a8b0f",
   "metadata": {
    "id": "fe4a8b0f"
   },
   "outputs": [
    {
     "name": "stdout",
     "output_type": "stream",
     "text": [
      "       product_id product_name  aisle_id  department_id\n",
      "37             38          NaN       100             21\n",
      "71             72          NaN       100             21\n",
      "109           110          NaN       100             21\n",
      "296           297          NaN       100             21\n",
      "416           417          NaN       100             21\n",
      "...           ...          ...       ...            ...\n",
      "49552       49553          NaN       100             21\n",
      "49574       49575          NaN       100             21\n",
      "49640       49641          NaN       100             21\n",
      "49663       49664          NaN       100             21\n",
      "49668       49669          NaN       100             21\n",
      "\n",
      "[1258 rows x 4 columns]\n"
     ]
    }
   ],
   "source": [
    "# Encuentra los valores ausentes en la columna 'product_name'\n",
    "print(products[products[\"product_name\"].isna()])"
   ]
  },
  {
   "cell_type": "markdown",
   "id": "-A6x1AbJhjkp",
   "metadata": {
    "id": "-A6x1AbJhjkp"
   },
   "source": [
    "Describe brevemente cuáles son tus hallazgos.\n",
    "\n",
    "Encontramos que hay 1258 valores ausentes en la columna \"product_name\", es decir, falta el nombre del producto"
   ]
  },
  {
   "cell_type": "code",
   "execution_count": 533,
   "id": "e96167bc",
   "metadata": {
    "id": "e96167bc"
   },
   "outputs": [
    {
     "name": "stdout",
     "output_type": "stream",
     "text": [
      "       product_id product_name  aisle_id  department_id\n",
      "37             38          NaN       100             21\n",
      "71             72          NaN       100             21\n",
      "109           110          NaN       100             21\n",
      "296           297          NaN       100             21\n",
      "416           417          NaN       100             21\n",
      "...           ...          ...       ...            ...\n",
      "49552       49553          NaN       100             21\n",
      "49574       49575          NaN       100             21\n",
      "49640       49641          NaN       100             21\n",
      "49663       49664          NaN       100             21\n",
      "49668       49669          NaN       100             21\n",
      "\n",
      "[1258 rows x 4 columns]\n"
     ]
    }
   ],
   "source": [
    "#  ¿Todos los nombres de productos ausentes están relacionados con el pasillo con ID 100?\n",
    "print(products[(products[\"product_name\"].isna()) & (products[\"aisle_id\"] == 100)])"
   ]
  },
  {
   "cell_type": "markdown",
   "id": "WRpIfXRphpSL",
   "metadata": {
    "id": "WRpIfXRphpSL"
   },
   "source": [
    "Describe brevemente cuáles son tus hallazgos.\n",
    "\n",
    "Encontramos que la columna \"product_name\" tiene 1258 valores ausentes, luego quisimos ver si todos esos valores correspondian al pasillo con ID 100 presente en la columna \"aisle_id\". Al hacer el análisis, vimos que efectivamente es verdad esta aseveración."
   ]
  },
  {
   "cell_type": "code",
   "execution_count": 534,
   "id": "8fd0a541",
   "metadata": {
    "id": "8fd0a541"
   },
   "outputs": [
    {
     "name": "stdout",
     "output_type": "stream",
     "text": [
      "       product_id product_name  aisle_id  department_id\n",
      "37             38          NaN       100             21\n",
      "71             72          NaN       100             21\n",
      "109           110          NaN       100             21\n",
      "296           297          NaN       100             21\n",
      "416           417          NaN       100             21\n",
      "...           ...          ...       ...            ...\n",
      "49552       49553          NaN       100             21\n",
      "49574       49575          NaN       100             21\n",
      "49640       49641          NaN       100             21\n",
      "49663       49664          NaN       100             21\n",
      "49668       49669          NaN       100             21\n",
      "\n",
      "[1258 rows x 4 columns]\n"
     ]
    }
   ],
   "source": [
    "# ¿Todos los nombres de productos ausentes están relacionados con el departamento con ID 21?\n",
    "print(products[(products[\"product_name\"].isna()) & (products[\"department_id\"] == 21)])"
   ]
  },
  {
   "cell_type": "markdown",
   "id": "qDpdYn1Fht_I",
   "metadata": {
    "id": "qDpdYn1Fht_I"
   },
   "source": [
    "Describe brevemente cuáles son tus hallazgos.\n",
    "\n",
    "Efectivamente, todos los productos ausentes en la columna \"product_name\" tiene una relación con el departamente con ID 21 en la columna \"department_id\""
   ]
  },
  {
   "cell_type": "code",
   "execution_count": 535,
   "id": "325c3464",
   "metadata": {
    "id": "325c3464"
   },
   "outputs": [
    {
     "name": "stdout",
     "output_type": "stream",
     "text": [
      "    department_id department\n",
      "20             21    missing\n",
      "\n",
      "*****************************************\n",
      "    aisle_id    aisle\n",
      "99       100  missing\n"
     ]
    }
   ],
   "source": [
    "# Usa las tablas department y aisle para revisar los datos del pasillo con ID 100 y el departamento con ID 21.\n",
    "print(departments[departments[\"department_id\"] == 21])\n",
    "print()\n",
    "print(\"*****************************************\")\n",
    "print(aisles[aisles[\"aisle_id\"] == 100])\n"
   ]
  },
  {
   "cell_type": "markdown",
   "id": "nqhSTUPhhvEJ",
   "metadata": {
    "id": "nqhSTUPhhvEJ"
   },
   "source": [
    "Describe brevemente cuáles son tus hallazgos.\n",
    "\n",
    "Cuando hice una revisión en el dataframe de aisles en la columna \"aisle_id\" buscando el pasillo con ID 100 me puso que el nombre de pasillo como missing. Luego, cuando busque en el dataframe de department en la columna \"department_id\" buscando el departamento con número 21 también me puso el nombre como missing.\n",
    "\n",
    "En ambos casos, hice una prueba con diferentes números ID de pasillo y ID de departamente respectivamente y si me arrojaba tanto nombre de departamento como nombre de pasillo. Será interesante ver este resultado como lo puedo usar más adelante."
   ]
  },
  {
   "cell_type": "code",
   "execution_count": 536,
   "id": "6b295120",
   "metadata": {
    "id": "6b295120"
   },
   "outputs": [],
   "source": [
    "# Completa los nombres de productos ausentes con 'Unknown'\n",
    "products[\"product_name\"] = products[\"product_name\"].fillna(\"Unknown\")\n"
   ]
  },
  {
   "cell_type": "markdown",
   "id": "fc70e5ad",
   "metadata": {
    "id": "fc70e5ad"
   },
   "source": [
    "Describe brevemente tus hallazgos y lo que hiciste con ellos.\n",
    "\n",
    "La falta de nombre de producto en la columna \"product_name\" lo cambie por la palabra UnKnown para que refleje mejor el significado de los valores asusentes que se tenian antes."
   ]
  },
  {
   "cell_type": "markdown",
   "id": "7eb45c86",
   "metadata": {
    "id": "7eb45c86"
   },
   "source": [
    "### `orders` data frame \n",
    "Cuando diga orders se refiere a instacart_orders"
   ]
  },
  {
   "cell_type": "code",
   "execution_count": 537,
   "id": "93e41d96",
   "metadata": {
    "id": "93e41d96"
   },
   "outputs": [
    {
     "name": "stdout",
     "output_type": "stream",
     "text": [
      "order_id                      0\n",
      "user_id                       0\n",
      "order_number                  0\n",
      "order_dow                     0\n",
      "order_hour_of_day             0\n",
      "days_since_prior_order    28817\n",
      "dtype: int64\n"
     ]
    }
   ],
   "source": [
    "# Encuentra los valores ausentes\n",
    "print(instacart_orders.isna().sum())"
   ]
  },
  {
   "cell_type": "code",
   "execution_count": 538,
   "id": "166e5a86",
   "metadata": {
    "id": "166e5a86"
   },
   "outputs": [
    {
     "name": "stdout",
     "output_type": "stream",
     "text": [
      "Empty DataFrame\n",
      "Columns: [order_id, user_id, order_number, order_dow, order_hour_of_day, days_since_prior_order]\n",
      "Index: []\n"
     ]
    }
   ],
   "source": [
    "# ¿Hay algún valor ausente que no sea el primer pedido del cliente?\n",
    "print(instacart_orders[(instacart_orders[\"days_since_prior_order\"].isna()) & \n",
    "                       (~instacart_orders[\"order_number\"] == 1)])\n"
   ]
  },
  {
   "cell_type": "markdown",
   "id": "4e23d089",
   "metadata": {
    "id": "4e23d089"
   },
   "source": [
    "Describe brevemente tus hallazgos y lo que hiciste con ellos.\n",
    "\n",
    "Solo tenemos valores ausentes en la columna \"days_since_prior_order\". Al hacer una revisión, vemos que cuando esto paso el valor de la columna \"order_number\" es igual a 1, es decir, que tiene sentido que esa columna tenga valores ausentes ya que al ser el primer pedido del cliente no pueden haber transcurrido dias desde su último pedido."
   ]
  },
  {
   "cell_type": "markdown",
   "id": "69dc9ca4",
   "metadata": {
    "id": "69dc9ca4"
   },
   "source": [
    "### `order_products` data frame"
   ]
  },
  {
   "cell_type": "code",
   "execution_count": 539,
   "id": "b8240253",
   "metadata": {
    "id": "b8240253"
   },
   "outputs": [
    {
     "name": "stdout",
     "output_type": "stream",
     "text": [
      "order_id               0\n",
      "product_id             0\n",
      "add_to_cart_order    836\n",
      "reordered              0\n",
      "dtype: int64\n"
     ]
    }
   ],
   "source": [
    "# Encuentra los valores ausentes\n",
    "print(order_products.isna().sum())"
   ]
  },
  {
   "cell_type": "code",
   "execution_count": 540,
   "id": "9a78e5ee",
   "metadata": {
    "id": "9a78e5ee"
   },
   "outputs": [
    {
     "name": "stdout",
     "output_type": "stream",
     "text": [
      "El valor mínimo en la única columna que tiene valores ausentes es 1.0 y el valor máximo es 64.0\n"
     ]
    }
   ],
   "source": [
    "# ¿Cuáles son los valores mínimos y máximos en esta columna?\n",
    "print(\"El valor mínimo en la única columna que tiene valores ausentes es\",order_products[\"add_to_cart_order\"].min(),\n",
    "      \"y el valor máximo es\", order_products[\"add_to_cart_order\"].max())\n"
   ]
  },
  {
   "cell_type": "markdown",
   "id": "-Z2Ja215jW78",
   "metadata": {
    "id": "-Z2Ja215jW78"
   },
   "source": [
    "Describe brevemente cuáles son tus hallazgos.\n",
    "\n",
    "En el dataframe order_products solamente la columna \"add_to_cart_order\" tiene valores ausentes, en total, 836. También, cuando revisamos en esa columna cual era el valor mínimo el resultado fue 1 y el máximo 64. Recordemos que esa columna describe el orden secuencial en el que se añadio cada artículo en el carrito, por ende, podriamos decir que el máximo de veces que se han agregado articulos en un pedido son 64 veces."
   ]
  },
  {
   "cell_type": "code",
   "execution_count": 541,
   "id": "ab9d0c2b",
   "metadata": {
    "id": "ab9d0c2b"
   },
   "outputs": [
    {
     "name": "stdout",
     "output_type": "stream",
     "text": [
      "737        2449164\n",
      "9926       1968313\n",
      "14394      2926893\n",
      "16418      1717990\n",
      "30114      1959075\n",
      "            ...   \n",
      "4505662    1800005\n",
      "4511400    1633337\n",
      "4517562     404157\n",
      "4534112    1673227\n",
      "4535739    1832957\n",
      "Name: order_id, Length: 836, dtype: int64\n"
     ]
    }
   ],
   "source": [
    "# Guarda todas las IDs de pedidos que tengan un valor ausente en 'add_to_cart_order'\n",
    "\n",
    "na_cart_order = order_products[order_products[\"add_to_cart_order\"].isna()][\"order_id\"]\n",
    "print(na_cart_order)\n"
   ]
  },
  {
   "cell_type": "code",
   "execution_count": 542,
   "id": "54c31695",
   "metadata": {
    "id": "54c31695"
   },
   "outputs": [
    {
     "name": "stdout",
     "output_type": "stream",
     "text": [
      "65\n"
     ]
    }
   ],
   "source": [
    "# ¿Todos los pedidos con valores ausentes tienen más de 64 productos?\n",
    "# Agrupa todos los pedidos con datos ausentes por su ID de pedido.\n",
    "# Cuenta el número de 'product_id' en cada pedido y revisa el valor mínimo del conteo.\n",
    "\n",
    "gr_order_id = order_products[order_products[\"order_id\"].isin(na_cart_order)]\n",
    "product_id = gr_order_id.groupby(\"order_id\")[\"product_id\"].count().min()\n",
    "print(product_id)\n",
    "\n",
    "\n"
   ]
  },
  {
   "cell_type": "markdown",
   "id": "p9V6pddtjglj",
   "metadata": {
    "id": "p9V6pddtjglj"
   },
   "source": [
    "Describe brevemente cuáles son tus hallazgos.\n",
    "\n",
    "En el dataframe order_products la única columna que tiene valores faltantes es \"add_to_cart_order\" que muestra el orden secuencial en el que se añadio cada artículo en el carrito. También, en esa columna el valor mínimo es 1 y el máximo es 64, es decir, el mínimo de productos que se agrega es uno y el máximo que se ha agredado es 64.\n",
    "\n",
    "Y si, todos los valores ausentes tienen más de 65.\n"
   ]
  },
  {
   "cell_type": "code",
   "execution_count": 543,
   "id": "7a987d08",
   "metadata": {
    "id": "7a987d08"
   },
   "outputs": [
    {
     "data": {
      "text/plain": [
       "True"
      ]
     },
     "execution_count": 543,
     "metadata": {},
     "output_type": "execute_result"
    }
   ],
   "source": [
    "# Remplaza los valores ausentes en la columna 'add_to_cart? con 999 y convierte la columna al tipo entero.\n",
    "# Primero remplazo los valores ausentes con el número 999\n",
    "order_products[\"add_to_cart_order\"] = order_products[\"add_to_cart_order\"].fillna(999)\n",
    "\n",
    "# Como el número 999 es un integer al remplazarlo por los valores ausentes el tipo de dato de la\n",
    "# la columna add_to_cart_order cambia de float a object, ya que ahora contiene tanto datos float como\n",
    "# integer. Enonces convierto nuevamente todos los datos a float\n",
    "order_products[\"add_to_cart_order\"] = order_products[\"add_to_cart_order\"].astype(\"float\")\n",
    "\n",
    "# Antes de convertir los datos a integer necesito revisar que al hacerlo no se perderá ninguna\n",
    "# información.\n",
    "\n",
    "np.array_equal(order_products[\"add_to_cart_order\"],order_products[\"add_to_cart_order\"].astype(\"int\"))\n"
   ]
  },
  {
   "cell_type": "code",
   "execution_count": 544,
   "id": "dd566c33",
   "metadata": {},
   "outputs": [
    {
     "name": "stdout",
     "output_type": "stream",
     "text": [
      "<class 'pandas.core.frame.DataFrame'>\n",
      "RangeIndex: 4545007 entries, 0 to 4545006\n",
      "Data columns (total 4 columns):\n",
      " #   Column             Dtype\n",
      "---  ------             -----\n",
      " 0   order_id           int64\n",
      " 1   product_id         int64\n",
      " 2   add_to_cart_order  int64\n",
      " 3   reordered          int64\n",
      "dtypes: int64(4)\n",
      "memory usage: 138.7 MB\n"
     ]
    }
   ],
   "source": [
    "# Convierto los valores de la columna add_to_cart_order a integer\n",
    "\n",
    "order_products[\"add_to_cart_order\"] = order_products[\"add_to_cart_order\"].astype(\"int\")\n",
    "order_products.info()"
   ]
  },
  {
   "cell_type": "markdown",
   "id": "fea4bcc7",
   "metadata": {
    "id": "fea4bcc7"
   },
   "source": [
    "Describe brevemente tus hallazgos y lo que hiciste con ellos.\n",
    "\n",
    "Remplace los valores ausentes de la columna \"add_to_cart_order\" por el número 999, sin embargo, al hacerlo se transformo el tipo de dato de la columna de float a object porque al poner el 999 la columna ahora contenia tanto floats como integers. Recordar que object puede ser un string o una combinación de diferentes tipos de datos.\n",
    "\n",
    "El objetivo era transformar la columna a integer, pero para eso, primero tenia que revisar si hacer eso no ocasionaría que se perdiera información, es decir, puntos decimales. Cuando vi que no pasaba eso, entonces procedí en hacer la conversión."
   ]
  },
  {
   "cell_type": "markdown",
   "id": "RnplPFY1gSrb",
   "metadata": {
    "id": "RnplPFY1gSrb"
   },
   "source": [
    "## Conclusiones\n",
    "\n",
    "Escribe aquí tus conclusiones intermedias sobre el Paso 2. Preprocesamiento de los datos\n",
    "\n",
    "Verifica y corrige los tipos de datos (por ejemplo, asegúrate de que las columnas de ID sean números enteros).\n",
    "Identifica y completa los valores ausentes.\n",
    "Identifica y elimina los valores duplicados.\n",
    "Asegúrate de explicar qué tipos de valores ausentes y duplicados encontraste, cómo los completaste o eliminaste y por qué usaste esos métodos. ¿Por qué crees que estos valores ausentes y duplicados pueden haber estado presentes en el conjunto de datos?\n",
    "\n",
    "****************************************************************************\n",
    "\n",
    "\n",
    "En el paso 2 - Procesamiento de datos revisamos en cada dataframe la situación sobre los valores ausentes y duplicados\n",
    "\n",
    "Empezamos con los revisar los valores duplicados, el orden en que se realizó fue el siguiente:\n",
    "\n",
    "**Valores duplicados**\n",
    "\n",
    "*dataframe instacart_orders*\n",
    "\n",
    "Revisamos los valores duplicados con base en la columna \"id_order\" la cual contiene IDs únicos que identifican los pedidos, nos dimos cuenta que habia 15 valores duplicados y todos pertenecian al día miércoles y realizados a las 2 de la tarde. Decidimos eliminarlos ya que esta tabla debería tener valores únicos en esa columna.\n",
    "\n",
    "*dataframe products*\n",
    "\n",
    "Revisamos los valores duplicados en filas completas y no hubo, luego con base en la columna \"department_id\" y encontramos 49,673. En esta columna no hay valores faltantes, entonces los valores duplicados son información que realmente existe en la columna. Al ser la columna \"departament_id\" la que identifica los departamentos de víveres parece que es correcto que se repitan id's.\n",
    "\n",
    "Luego, revisamos la columna \"product_name\" donde estan los nombres de los productos. Lo interesante aqui es que el primer análisis arrojo que habían 1,361 duplicados, pero estos consideran toda la información de la columna en donde tenemos valores ausentes. Después, repetimos el análisis sin considerar los valores ausentes, y ahora el resultado fue de 104. Es importante ver como los valores ausentes pueden sesgar nuestro análisis y dar conclusiones erroneas.\n",
    "\n",
    "*dataframe departments*\n",
    "\n",
    "Revisamos los valores duplicados en filas completas y no hubo, luego hicimos el mismo análisis pero considerando solo la columna \"department_id\" y el resultado fue el mismo. Esto tiene sentido, ya que esta tabla solo contiene dos columnas, la de deparment que tiene el nombre del departamento y la de department_id que tiene le ID que identifica de manera única a cada departamento de víveres.\n",
    "\n",
    "*dataframe aisles*\n",
    "\n",
    "Revisamos los valores duplicados en filas completas y no hubo, luego hicimos el mismo análisis pero considerando solo la columna \"aisles_id\" y el resultado fue el mismo. El resultado de esto es parecido al que obtuvimos cuando analizamos el dataframe departments, ya que también solo contiene dos columnas, y pues ambas contiene valores únicos, por un lado \"aisles_id\" identifica de manera única cada categoría de pasillo de viveres, y la columna \"aisle\" contiene le nombre del pasillo.\n",
    "\n",
    "*dataframe order_products*\n",
    "\n",
    "Revisamos los valores duplicados en filas completas y no hubo, y luego al analizar las demás columnas si hay , sin embargo, esto al parecer es normal considerando la naturaleza de las columnas.\n",
    "\n",
    "Una vez que terminamos de analizar los valores duplicados, seguimos con revisar los valores ausentes\n",
    "\n",
    "**Valores ausentes/faltantes**\n",
    "\n",
    "*dataframe products*\n",
    "\n",
    "Revisamos los valores ausentes de la columna \"product_name\" y obtuvimos que hacen falta 1258 nombres de productos, y que todos estos nombres ausentes tienen relación con el pasillo número 100, y al mismo tiempo, estan relacionados con el departamento id número 21. Posteriormente, decidimos cambiar los valores ausentes por la palabra Unknown.\n",
    "\n",
    "*dataframe instacart_orders*\n",
    "\n",
    "Revisamos los valores ausentes de todo el data frame y solamente la columna \"days_since_prior_order\" tiene, en total, 28817, sin embargo, todos estos coincidian con el número 1 de la columna \"order_number\" (contiene número de veces que el cliente ha hecho un pedido). Entonces, es entendible que esta es la razón de estos valores ausentes.\n",
    "\n",
    "*dataframe order_products*\n",
    "\n",
    "Revisamos los valores ausentes de todo el data frame y solamente la columna \"add_to_cart_order\" tiene, en total, 836. Esta columna muestra el orden secuencial en el que se añadió cada artículo en el carrito. El valor mínimo es 1 y el máximo 64. Decidimos cambiar los valores ausentes por el número 999, y cambiar la columna al tipo de dato integer. \n",
    "\n",
    "Es posible que los valores ausentes se deban a que los artículos se agregaron al carrito pero no se realizó realmente el pedido, por lo cual, no se agregaron secuencias de productos en la columna add_to_cart_order.\n"
   ]
  },
  {
   "cell_type": "markdown",
   "id": "UjrOIwTcz3ri",
   "metadata": {
    "id": "UjrOIwTcz3ri"
   },
   "source": [
    "# Paso 3. Análisis de los datos\n",
    "\n",
    "Una vez los datos estén procesados y listos, haz el siguiente análisis:"
   ]
  },
  {
   "cell_type": "markdown",
   "id": "turkish-kidney",
   "metadata": {
    "id": "turkish-kidney"
   },
   "source": [
    "# [A] Fácil (deben completarse todos para aprobar)\n",
    "\n",
    "1. Verifica que los valores en las columnas `'order_hour_of_day'` y `'order_dow'` en la tabla orders sean razonables (es decir, `'order_hour_of_day'` oscile entre 0 y 23 y `'order_dow'` oscile entre 0 y 6).\n",
    "2. Crea un gráfico que muestre el número de personas que hacen pedidos dependiendo de la hora del día.\n",
    "3. Crea un gráfico que muestre qué día de la semana la gente hace sus compras.\n",
    "4. Crea un gráfico que muestre el tiempo que la gente espera hasta hacer su siguiente pedido, y comenta sobre los valores mínimos y máximos."
   ]
  },
  {
   "cell_type": "markdown",
   "id": "short-capability",
   "metadata": {
    "id": "short-capability"
   },
   "source": [
    "### [A1] Verifica que los valores sean sensibles"
   ]
  },
  {
   "cell_type": "code",
   "execution_count": 545,
   "id": "growing-fruit",
   "metadata": {
    "id": "growing-fruit"
   },
   "outputs": [
    {
     "name": "stdout",
     "output_type": "stream",
     "text": [
      "Empty DataFrame\n",
      "Columns: [order_id, user_id, order_number, order_dow, order_hour_of_day, days_since_prior_order]\n",
      "Index: []\n"
     ]
    }
   ],
   "source": [
    "sens_hour_of_day = instacart_orders[instacart_orders[\"order_hour_of_day\"] > 23]\n",
    "print(sens_hour_of_day)\n",
    "\n",
    "\n"
   ]
  },
  {
   "cell_type": "code",
   "execution_count": 546,
   "id": "432da4dc",
   "metadata": {},
   "outputs": [
    {
     "name": "stdout",
     "output_type": "stream",
     "text": [
      "Empty DataFrame\n",
      "Columns: [order_id, user_id, order_number, order_dow, order_hour_of_day, days_since_prior_order]\n",
      "Index: []\n"
     ]
    }
   ],
   "source": [
    "sens_order_dow = instacart_orders[instacart_orders[\"order_dow\"] > 6]\n",
    "print(sens_order_dow)\n"
   ]
  },
  {
   "cell_type": "markdown",
   "id": "hmR2GNQ6lCsX",
   "metadata": {
    "id": "hmR2GNQ6lCsX"
   },
   "source": [
    "Escribe aquí tus conclusiones\n",
    "\n",
    "Los valores de la columna \"order_hour_of_day\" si oscilan entre 0 y 23 , y los de \"order_dow\" si oscilan entre 0 a 6, por lo tanto, si son son razonables. Este análisis es importante para ver que realmente cada columna represente por un lado las horas del día, y por otro, los dias de la semana. Si hubieramos tenido por ejemplo un número 8 en la columna \"order_dow\" pues eso sería un foco rojo, ya que esto podria indicar un error en los datos, que se deberían corregir antes de analizar algo con esa columna."
   ]
  },
  {
   "cell_type": "markdown",
   "id": "a6743a70",
   "metadata": {
    "id": "a6743a70"
   },
   "source": [
    "### [A2] Para cada hora del día, ¿cuántas personas hacen órdenes?"
   ]
  },
  {
   "cell_type": "code",
   "execution_count": 547,
   "id": "a36cca27",
   "metadata": {
    "id": "a36cca27",
    "scrolled": true
   },
   "outputs": [
    {
     "data": {
      "image/png": "[encoded data removed]",
      "text/plain": [
       "<Figure size 648x360 with 1 Axes>"
      ]
     },
     "metadata": {
      "needs_background": "light"
     },
     "output_type": "display_data"
    },
    {
     "name": "stdout",
     "output_type": "stream",
     "text": [
      "0      3180\n",
      "1      1763\n",
      "2       989\n",
      "3       770\n",
      "4       765\n",
      "5      1371\n",
      "6      4215\n",
      "7     13043\n",
      "8     25024\n",
      "9     35896\n",
      "10    40578\n",
      "11    40032\n",
      "12    38034\n",
      "13    39007\n",
      "14    39631\n",
      "15    39789\n",
      "16    38112\n",
      "17    31930\n",
      "18    25510\n",
      "19    19547\n",
      "20    14624\n",
      "21    11019\n",
      "22     8512\n",
      "23     5611\n",
      "Name: order_hour_of_day, dtype: int64\n"
     ]
    }
   ],
   "source": [
    "plt.figure(figsize=(9, 5))\n",
    "instacart_orders[\"order_hour_of_day\"].plot(kind = \"hist\", bins = 50)\n",
    "                                           \n",
    "plt.title(\"Número de personas que compran por hora\")\n",
    "plt.xlabel(\"Hora del día (formato 24 horas)\\n NOTA: Cada barra representa una hora\")\n",
    "plt.ylabel(\"Número de personas\")\n",
    "plt.show()\n",
    "print(instacart_orders[\"order_hour_of_day\"].value_counts().sort_index())"
   ]
  },
  {
   "cell_type": "markdown",
   "id": "11270eed",
   "metadata": {
    "id": "11270eed"
   },
   "source": [
    "Escribe aquí tus conclusiones\n",
    "\n",
    "Se realizan la mayor cantidad de pedidos en un rango de 9 a.m. a las 16 p.m. Despúes de las 16 horas empiezan a disminuir."
   ]
  },
  {
   "cell_type": "markdown",
   "id": "documented-command",
   "metadata": {
    "id": "documented-command"
   },
   "source": [
    "### [A3] ¿Qué día de la semana compran víveres las personas?"
   ]
  },
  {
   "cell_type": "code",
   "execution_count": 548,
   "id": "chief-digit",
   "metadata": {
    "id": "chief-digit"
   },
   "outputs": [
    {
     "data": {
      "image/png": "[encoded data removed]",
      "text/plain": [
       "<Figure size 648x360 with 1 Axes>"
      ]
     },
     "metadata": {
      "needs_background": "light"
     },
     "output_type": "display_data"
    },
    {
     "name": "stdout",
     "output_type": "stream",
     "text": [
      "0    84090\n",
      "1    82185\n",
      "2    65833\n",
      "3    60897\n",
      "4    59810\n",
      "5    63488\n",
      "6    62649\n",
      "Name: order_dow, dtype: int64\n"
     ]
    }
   ],
   "source": [
    "plt.figure(figsize=(9, 5))\n",
    "instacart_orders[\"order_dow\"].plot(kind = \"hist\", bins = 20)\n",
    "                                           \n",
    "plt.title(\"Día de la semana que compran viveres\")\n",
    "plt.xlabel(\"Día de la semana (0 es domingo y 1 es Lunes)\")\n",
    "plt.ylabel(\"Numero de pedidos\")\n",
    "plt.show()\n",
    "print(instacart_orders[\"order_dow\"].value_counts().sort_index())"
   ]
  },
  {
   "cell_type": "markdown",
   "id": "dominant-lightning",
   "metadata": {
    "id": "dominant-lightning"
   },
   "source": [
    "Escribe aquí tus conclusiones\n",
    "\n",
    "El domingo y el lunes es cuando se compran más viveres, podria ser entendible esto, porque las personas los quieren para usarlos durante toda la semana."
   ]
  },
  {
   "cell_type": "markdown",
   "id": "cutting-concert",
   "metadata": {
    "id": "cutting-concert"
   },
   "source": [
    "### [A4] ¿Cuánto tiempo esperan las personas hasta hacer otro pedido? Comenta sobre los valores mínimos y máximos."
   ]
  },
  {
   "cell_type": "code",
   "execution_count": 549,
   "id": "c231f523",
   "metadata": {
    "id": "c231f523"
   },
   "outputs": [
    {
     "name": "stdout",
     "output_type": "stream",
     "text": [
      "63096     22.0\n",
      "82647      8.0\n",
      "109160     2.0\n",
      "12873     30.0\n",
      "224861    30.0\n",
      "415393    12.0\n",
      "312605     8.0\n",
      "132308     7.0\n",
      "295828    30.0\n",
      "65681      2.0\n",
      "Name: days_since_prior_order, dtype: float64\n",
      "\n",
      "0.0\n",
      "30.0\n"
     ]
    }
   ],
   "source": [
    "time_wait_order = instacart_orders[instacart_orders[\"days_since_prior_order\"] != 1]\n",
    "print(time_wait_order[\"days_since_prior_order\"].sort_values(ascending = True).sample(10))\n",
    "print()\n",
    "print(time_wait_order[\"days_since_prior_order\"].min())\n",
    "print(time_wait_order[\"days_since_prior_order\"].max())"
   ]
  },
  {
   "cell_type": "code",
   "execution_count": 550,
   "id": "971650bc",
   "metadata": {},
   "outputs": [
    {
     "data": {
      "image/png": "[encoded data removed]",
      "text/plain": [
       "<Figure size 648x360 with 1 Axes>"
      ]
     },
     "metadata": {
      "needs_background": "light"
     },
     "output_type": "display_data"
    },
    {
     "name": "stdout",
     "output_type": "stream",
     "text": [
      "0.0      9589\n",
      "1.0     20179\n",
      "2.0     27138\n",
      "3.0     30224\n",
      "4.0     31006\n",
      "5.0     30096\n",
      "6.0     33930\n",
      "7.0     44577\n",
      "8.0     25361\n",
      "9.0     16753\n",
      "10.0    13309\n",
      "11.0    11467\n",
      "12.0    10658\n",
      "13.0    11737\n",
      "14.0    13992\n",
      "15.0     9416\n",
      "16.0     6587\n",
      "17.0     5498\n",
      "18.0     4971\n",
      "19.0     4939\n",
      "20.0     5302\n",
      "21.0     6448\n",
      "22.0     4514\n",
      "23.0     3337\n",
      "24.0     3015\n",
      "25.0     2711\n",
      "26.0     2640\n",
      "27.0     2986\n",
      "28.0     3745\n",
      "29.0     2673\n",
      "30.0    51337\n",
      "Name: days_since_prior_order, dtype: int64\n"
     ]
    }
   ],
   "source": [
    "plt.figure(figsize=(9, 5))\n",
    "instacart_orders[\"days_since_prior_order\"].plot(kind = \"hist\", bins = 30)\n",
    "                                           \n",
    "plt.title(\"Tiempo de espera para el siguiente pedido\")\n",
    "plt.xlabel(\"Dias de espera\")\n",
    "plt.ylabel(\"Pedidos\")\n",
    "plt.show()\n",
    "print(instacart_orders[\"days_since_prior_order\"].value_counts().sort_index())"
   ]
  },
  {
   "cell_type": "markdown",
   "id": "discrete-vertex",
   "metadata": {
    "id": "discrete-vertex"
   },
   "source": [
    "Escribe aquí tus conclusiones\n",
    "\n",
    "El tiempo mínimo que las personas tardan de hacer su segundo pedido es cero días, es decir, piden el mismo día, y el máximo son 30 días."
   ]
  },
  {
   "cell_type": "markdown",
   "id": "e7cd4ae4",
   "metadata": {},
   "source": [
    " <div class=\"alert alert-block alert-success\">\n",
    "<b>Comentario del revisor</b> <a class=\"tocSkip\"></a>\n",
    "    \n",
    "Buen trabajo con esta sección `A`.\n",
    "</div>"
   ]
  },
  {
   "cell_type": "markdown",
   "id": "tight-staff",
   "metadata": {
    "id": "tight-staff"
   },
   "source": [
    "# [B] Intermedio (deben completarse todos para aprobar)\n",
    "\n",
    "1. ¿Existe alguna diferencia entre las distribuciones `'order_hour_of_day'` de los miércoles y los sábados? Traza gráficos de barra de `'order_hour_of_day'` para ambos días en la misma figura y describe las diferencias que observes.\n",
    "2. Grafica la distribución para el número de órdenes que hacen los clientes (es decir, cuántos clientes hicieron solo 1 pedido, cuántos hicieron 2, cuántos 3, y así sucesivamente...).\n",
    "3. ¿Cuáles son los 20 principales productos que se piden con más frecuencia (muestra su identificación y nombre)?"
   ]
  },
  {
   "cell_type": "markdown",
   "id": "packed-classic",
   "metadata": {
    "id": "packed-classic"
   },
   "source": [
    "### [B1] Diferencia entre miércoles y sábados para  `'order_hour_of_day'`. Traza gráficos de barra para los dos días y describe las diferencias que veas."
   ]
  },
  {
   "cell_type": "code",
   "execution_count": 551,
   "id": "94e54e8a",
   "metadata": {
    "id": "94e54e8a"
   },
   "outputs": [
    {
     "data": {
      "text/plain": [
       "<matplotlib.legend.Legend at 0x7f8db3273df0>"
      ]
     },
     "execution_count": 551,
     "metadata": {},
     "output_type": "execute_result"
    },
    {
     "data": {
      "image/png": "[encoded data removed]",
      "text/plain": [
       "<Figure size 432x288 with 1 Axes>"
      ]
     },
     "metadata": {
      "needs_background": "light"
     },
     "output_type": "display_data"
    }
   ],
   "source": [
    "instacart_orders[instacart_orders[\"order_dow\"]== 3][\"order_hour_of_day\"].plot(kind = \"hist\", bins=30)\n",
    "instacart_orders[instacart_orders[\"order_dow\"]== 6][\"order_hour_of_day\"].plot(kind = \"hist\", bins=30)\n",
    "plt.title(\"Comportamiento pedidos Miércoles y Sábado\")\n",
    "plt.xlabel(\"Hora del día(formato 24 horas)\")\n",
    "plt.ylabel(\"Número de pedidos\")\n",
    "plt.legend([\"Miércoles\",\"Sábado\"])\n"
   ]
  },
  {
   "cell_type": "markdown",
   "id": "charitable-congo",
   "metadata": {
    "id": "charitable-congo"
   },
   "source": [
    "Escribe aquí tus conclusiones\n",
    "\n",
    "Los pedidos realizados en miércoles y sábado practicamente tienen la misma distribución y el mismo volumen de pedidos recibidos."
   ]
  },
  {
   "cell_type": "markdown",
   "id": "e3891143",
   "metadata": {
    "id": "e3891143"
   },
   "source": [
    "### [B2] ¿Cuál es la distribución para el número de pedidos por cliente?"
   ]
  },
  {
   "cell_type": "code",
   "execution_count": 552,
   "id": "d8c26c23",
   "metadata": {
    "id": "d8c26c23"
   },
   "outputs": [
    {
     "data": {
      "image/png": "[encoded data removed]",
      "text/plain": [
       "<Figure size 648x360 with 1 Axes>"
      ]
     },
     "metadata": {
      "needs_background": "light"
     },
     "output_type": "display_data"
    },
    {
     "name": "stdout",
     "output_type": "stream",
     "text": [
      "1      28817\n",
      "2      28633\n",
      "3      28685\n",
      "4      28703\n",
      "5      25661\n",
      "       ...  \n",
      "96       220\n",
      "97       221\n",
      "98       191\n",
      "99       169\n",
      "100      194\n",
      "Name: order_number, Length: 100, dtype: int64\n"
     ]
    }
   ],
   "source": [
    "plt.figure(figsize=(9, 5))\n",
    "instacart_orders[\"order_number\"].plot(kind = \"hist\", bins = 50)\n",
    "                                           \n",
    "plt.title(\"Número de pedidos por cliente\")\n",
    "plt.xlabel(\"Número de pedidos\")\n",
    "plt.ylabel(\"Número de clientes\")\n",
    "plt.show()\n",
    "print(instacart_orders[\"order_number\"].value_counts().sort_index())\n"
   ]
  },
  {
   "cell_type": "markdown",
   "id": "d2eff7d5",
   "metadata": {
    "id": "d2eff7d5"
   },
   "source": [
    "Escribe aquí tus conclusiones\n",
    "\n",
    "Alrededor de 58 mil clientes realizan entre 1 y 5 pedidos, y luego la tendencia es que cada vez menos clientes realizan más de 5 pedidos y asi sucesivamente.\n"
   ]
  },
  {
   "cell_type": "markdown",
   "id": "54a0319c",
   "metadata": {
    "id": "54a0319c"
   },
   "source": [
    "### [B3] ¿Cuáles son los 20 productos más populares (muestra su ID y nombre)?"
   ]
  },
  {
   "cell_type": "code",
   "execution_count": 553,
   "id": "ffe52b22",
   "metadata": {},
   "outputs": [
    {
     "name": "stdout",
     "output_type": "stream",
     "text": [
      "   product_id                product_name  aisle_id  department_id  order_id  \\\n",
      "0           1  Chocolate Sandwich Cookies        61             19   1104373   \n",
      "1           1  Chocolate Sandwich Cookies        61             19   1774977   \n",
      "2           1  Chocolate Sandwich Cookies        61             19    652770   \n",
      "3           1  Chocolate Sandwich Cookies        61             19   1000035   \n",
      "4           1  Chocolate Sandwich Cookies        61             19   1679949   \n",
      "5           1  Chocolate Sandwich Cookies        61             19   3004237   \n",
      "6           1  Chocolate Sandwich Cookies        61             19   2811336   \n",
      "7           1  Chocolate Sandwich Cookies        61             19   2149117   \n",
      "8           1  Chocolate Sandwich Cookies        61             19   1715986   \n",
      "9           1  Chocolate Sandwich Cookies        61             19   1604797   \n",
      "\n",
      "   add_to_cart_order  reordered  \n",
      "0                 11          1  \n",
      "1                  4          1  \n",
      "2                 10          0  \n",
      "3                  6          1  \n",
      "4                  9          0  \n",
      "5                  6          1  \n",
      "6                  1          1  \n",
      "7                  1          1  \n",
      "8                  6          0  \n",
      "9                  6          1  \n"
     ]
    }
   ],
   "source": [
    "merge_products_frames =products.merge(order_products,on = \"product_id\")\n",
    "print(merge_products_frames.head(10))"
   ]
  },
  {
   "cell_type": "code",
   "execution_count": 554,
   "id": "exterior-arizona",
   "metadata": {
    "id": "exterior-arizona",
    "scrolled": true
   },
   "outputs": [
    {
     "name": "stdout",
     "output_type": "stream",
     "text": [
      "    product_id              product_name  quantity_of_products\n",
      "0        24852                    Banana                 66050\n",
      "1        13176    Bag of Organic Bananas                 53297\n",
      "2        21137      Organic Strawberries                 37039\n",
      "3        21903      Organic Baby Spinach                 33971\n",
      "4        47209      Organic Hass Avocado                 29773\n",
      "5        47766           Organic Avocado                 24689\n",
      "6        47626               Large Lemon                 21495\n",
      "7        16797              Strawberries                 20018\n",
      "8        26209                     Limes                 19690\n",
      "9        27845        Organic Whole Milk                 19600\n",
      "10       27966       Organic Raspberries                 19197\n",
      "11       22935      Organic Yellow Onion                 15898\n",
      "12       24964            Organic Garlic                 15292\n",
      "13       45007          Organic Zucchini                 14584\n",
      "14       39275       Organic Blueberries                 13879\n",
      "15       49683            Cucumber Kirby                 13675\n",
      "16       28204        Organic Fuji Apple                 12544\n",
      "17        5876             Organic Lemon                 12232\n",
      "18        8277  Apple Honeycrisp Organic                 11993\n",
      "19       40706    Organic Grape Tomatoes                 11781\n"
     ]
    }
   ],
   "source": [
    "top_20_products = merge_products_frames[[\"product_id\",\"product_name\"]].value_counts().reset_index().head(40)\n",
    "top_20_products.columns = [\"product_id\",\"product_name\",\"quantity_of_products\"]\n",
    "print(top_20_products.head(20))"
   ]
  },
  {
   "cell_type": "markdown",
   "id": "7df00f47",
   "metadata": {
    "id": "7df00f47"
   },
   "source": [
    "Escribe aquí tus conclusiones\n",
    "\n",
    "Pudimos descubrir que la cantidad de pedidos que se realizan el día miércoles y el sábado practicamente son iguales tanto en cantidad como en las horas en que se realizan.\n",
    "\n",
    "También la mayoría de los clientes realizan de 1 a 5 pedidos, y el resto se distribuye entre 5 pedidos y 100 pedidos.\n",
    "\n",
    "Y finalmente, vimos cuales son los 20 productos más pedidos."
   ]
  },
  {
   "cell_type": "markdown",
   "id": "2623f2de",
   "metadata": {},
   "source": [
    " <div class=\"alert alert-block alert-success\">\n",
    "<b>Comentario del revisor</b> <a class=\"tocSkip\"></a>\n",
    "    \n",
    "Todo correcto en esta sección `B`.\n",
    "</div>"
   ]
  },
  {
   "cell_type": "markdown",
   "id": "gross-theme",
   "metadata": {
    "id": "gross-theme"
   },
   "source": [
    "# [C] Difícil (deben completarse todos para aprobar)\n",
    "\n",
    "1. ¿Cuántos artículos suelen comprar las personas en un pedido? ¿Cómo es la distribución?\n",
    "2. ¿Cuáles son los 20 principales artículos que vuelven a pedirse con mayor frecuencia (muestra sus nombres e IDs de los productos)?\n",
    "3. Para cada producto, ¿cuál es la tasa de repetición del pedido (número de repeticiones de pedido/total de pedidos?\n",
    "4. Para cada cliente, ¿qué proporción de los productos que pidió ya los había pedido? Calcula la tasa de repetición de pedido para cada usuario en lugar de para cada producto.\n",
    "5. ¿Cuáles son los 20 principales artículos que la gente pone primero en sus carritos (muestra las IDs de los productos, sus nombres, y el número de veces en que fueron el primer artículo en añadirse al carrito)?"
   ]
  },
  {
   "cell_type": "markdown",
   "id": "romantic-deposit",
   "metadata": {
    "id": "romantic-deposit"
   },
   "source": [
    "### [C1] ¿Cuántos artículos compran normalmente las personas en un pedido? ¿Cómo es la distribución?"
   ]
  },
  {
   "cell_type": "code",
   "execution_count": 555,
   "id": "virtual-punch",
   "metadata": {
    "id": "virtual-punch"
   },
   "outputs": [
    {
     "name": "stdout",
     "output_type": "stream",
     "text": [
      "        order_id  product_id\n",
      "0              4          13\n",
      "1              9          15\n",
      "2             11           5\n",
      "3             19           3\n",
      "4             20           8\n",
      "...          ...         ...\n",
      "450041   3421034          17\n",
      "450042   3421053           9\n",
      "450043   3421071           5\n",
      "450044   3421077           4\n",
      "450045   3421079           1\n",
      "\n",
      "[450046 rows x 2 columns]\n",
      "10.098983215049127\n"
     ]
    },
    {
     "data": {
      "image/png": "[encoded data removed]",
      "text/plain": [
       "<Figure size 648x360 with 1 Axes>"
      ]
     },
     "metadata": {
      "needs_background": "light"
     },
     "output_type": "display_data"
    }
   ],
   "source": [
    "# Ver cuantos pedidos se han hecho y cuantos productos compraron en cada uno\n",
    "products_buy = order_products.groupby(\"order_id\")[\"product_id\"].count().reset_index()\n",
    "print(products_buy)\n",
    "\n",
    "# Obtener el promedio de articulos comprados\n",
    "count_orders = products_buy[\"order_id\"].count()\n",
    "sum_products = products_buy[\"product_id\"].sum()\n",
    "avg_products = sum_products / count_orders\n",
    "print(avg_products)\n",
    "\n",
    "# Graficar la distribución de los productos comprados por pedido\n",
    "plt.figure(figsize=(9, 5))\n",
    "products_buy[\"product_id\"].plot(kind = \"hist\", bins = 15)\n",
    "                                           \n",
    "plt.title(\"\")\n",
    "plt.xlabel(\"Numero de productos comprados por cliente\")\n",
    "plt.ylabel(\"Número de pedidos\")\n",
    "plt.show()\n",
    "\n"
   ]
  },
  {
   "cell_type": "code",
   "execution_count": 556,
   "id": "sensitive-breathing",
   "metadata": {
    "id": "sensitive-breathing"
   },
   "outputs": [
    {
     "name": "stdout",
     "output_type": "stream",
     "text": [
      "         order_id  product_id  add_to_cart_order  reordered\n",
      "3977678         4       21351                  6          1\n",
      "1299531         4       32645                 12          1\n",
      "2507695         4       17616                 10          1\n",
      "2502556         4       41276                 13          1\n",
      "3189411         4       25146                 11          1\n",
      "2834230         4       26434                  2          1\n",
      "4107072         4       40285                  9          1\n",
      "311805          4       46842                  1          0\n",
      "1295279         4       39758                  3          1\n",
      "1420535         4       10054                  5          1\n",
      "1172585         4       22598                  7          1\n",
      "2043091         4       34862                  8          1\n",
      "1169276         4       27761                  4          1\n",
      "2302482         9         432                 13          1\n",
      "907975          9        3990                 14          1\n"
     ]
    }
   ],
   "source": [
    "print(order_products[order_products[\"add_to_cart_order\"].duplicated()].sort_values(\"order_id\").head(15))\n",
    "\n"
   ]
  },
  {
   "cell_type": "markdown",
   "id": "designed-mortality",
   "metadata": {
    "id": "designed-mortality"
   },
   "source": [
    "Escribe aquí tus conclusiones\n",
    "\n",
    "El promedio de artículos comprados es 10."
   ]
  },
  {
   "cell_type": "markdown",
   "id": "5e6b5537",
   "metadata": {
    "id": "5e6b5537"
   },
   "source": [
    "### [C2] ¿Cuáles son los 20 principales artículos que vuelven a pedirse con mayor frecuencia (muestra sus nombres e IDs de los productos)?"
   ]
  },
  {
   "cell_type": "code",
   "execution_count": 557,
   "id": "b8189b03",
   "metadata": {},
   "outputs": [
    {
     "name": "stdout",
     "output_type": "stream",
     "text": [
      "   product_id                product_name  aisle_id  department_id  order_id  \\\n",
      "0           1  Chocolate Sandwich Cookies        61             19   1104373   \n",
      "1           1  Chocolate Sandwich Cookies        61             19   1774977   \n",
      "2           1  Chocolate Sandwich Cookies        61             19    652770   \n",
      "3           1  Chocolate Sandwich Cookies        61             19   1000035   \n",
      "4           1  Chocolate Sandwich Cookies        61             19   1679949   \n",
      "5           1  Chocolate Sandwich Cookies        61             19   3004237   \n",
      "6           1  Chocolate Sandwich Cookies        61             19   2811336   \n",
      "7           1  Chocolate Sandwich Cookies        61             19   2149117   \n",
      "8           1  Chocolate Sandwich Cookies        61             19   1715986   \n",
      "9           1  Chocolate Sandwich Cookies        61             19   1604797   \n",
      "\n",
      "   add_to_cart_order  reordered  \n",
      "0                 11          1  \n",
      "1                  4          1  \n",
      "2                 10          0  \n",
      "3                  6          1  \n",
      "4                  9          0  \n",
      "5                  6          1  \n",
      "6                  1          1  \n",
      "7                  1          1  \n",
      "8                  6          0  \n",
      "9                  6          1  \n"
     ]
    }
   ],
   "source": [
    "print(merge_products_frames.head(10))"
   ]
  },
  {
   "cell_type": "code",
   "execution_count": 558,
   "id": "9374e55a",
   "metadata": {
    "id": "9374e55a"
   },
   "outputs": [
    {
     "name": "stdout",
     "output_type": "stream",
     "text": [
      "    reordered  product_id              product_name  quantity_of_products\n",
      "0           1       24852                    Banana                 55763\n",
      "1           1       13176    Bag of Organic Bananas                 44450\n",
      "2           1       21137      Organic Strawberries                 28639\n",
      "3           1       21903      Organic Baby Spinach                 26233\n",
      "4           1       47209      Organic Hass Avocado                 23629\n",
      "5           1       47766           Organic Avocado                 18743\n",
      "6           1       27845        Organic Whole Milk                 16251\n",
      "7           1       47626               Large Lemon                 15044\n",
      "8           1       27966       Organic Raspberries                 14748\n",
      "9           1       16797              Strawberries                 13945\n",
      "10          1       26209                     Limes                 13327\n",
      "11          1       22935      Organic Yellow Onion                 11145\n",
      "12          1       24964            Organic Garlic                 10411\n",
      "14          1       45007          Organic Zucchini                 10076\n",
      "15          1       49683            Cucumber Kirby                  9538\n",
      "16          1       28204        Organic Fuji Apple                  8989\n",
      "18          1        8277  Apple Honeycrisp Organic                  8836\n",
      "19          1       39275       Organic Blueberries                  8799\n",
      "20          1        5876             Organic Lemon                  8412\n",
      "22          1       49235       Organic Half & Half                  8389\n"
     ]
    }
   ],
   "source": [
    "top_20_products_reord = merge_products_frames[[\"reordered\",\"product_id\",\"product_name\"]].value_counts().reset_index().head(40)\n",
    "top_20_products_reord.columns = [\"reordered\",\"product_id\",\"product_name\",\"quantity_of_products\"]\n",
    "print(top_20_products_reord[top_20_products_reord[\"reordered\"] == 1].head(20))"
   ]
  },
  {
   "cell_type": "markdown",
   "id": "80e70c74",
   "metadata": {
    "id": "80e70c74"
   },
   "source": [
    "Escribe aquí tus conclusiones\n",
    "\n",
    "Los platanos son los reyes de los pedidos, son los que más se vuelven a pedir."
   ]
  },
  {
   "cell_type": "markdown",
   "id": "9d312b14",
   "metadata": {
    "id": "9d312b14"
   },
   "source": [
    "### [C3] Para cada producto, ¿cuál es la proporción de las veces que se pide y que se vuelve a pedir?\n"
   ]
  },
  {
   "cell_type": "code",
   "execution_count": 559,
   "id": "8ae9f4b1",
   "metadata": {
    "id": "8ae9f4b1"
   },
   "outputs": [
    {
     "name": "stdout",
     "output_type": "stream",
     "text": [
      "   product_id                product_name  aisle_id  department_id  order_id  \\\n",
      "0           1  Chocolate Sandwich Cookies        61             19   1104373   \n",
      "1           1  Chocolate Sandwich Cookies        61             19   1774977   \n",
      "2           1  Chocolate Sandwich Cookies        61             19    652770   \n",
      "3           1  Chocolate Sandwich Cookies        61             19   1000035   \n",
      "4           1  Chocolate Sandwich Cookies        61             19   1679949   \n",
      "5           1  Chocolate Sandwich Cookies        61             19   3004237   \n",
      "6           1  Chocolate Sandwich Cookies        61             19   2811336   \n",
      "7           1  Chocolate Sandwich Cookies        61             19   2149117   \n",
      "8           1  Chocolate Sandwich Cookies        61             19   1715986   \n",
      "9           1  Chocolate Sandwich Cookies        61             19   1604797   \n",
      "\n",
      "   add_to_cart_order  reordered  \n",
      "0                 11          1  \n",
      "1                  4          1  \n",
      "2                 10          0  \n",
      "3                  6          1  \n",
      "4                  9          0  \n",
      "5                  6          1  \n",
      "6                  1          1  \n",
      "7                  1          1  \n",
      "8                  6          0  \n",
      "9                  6          1  \n"
     ]
    }
   ],
   "source": [
    "print(merge_products_frames.head(10))"
   ]
  },
  {
   "cell_type": "code",
   "execution_count": 560,
   "id": "103e7fe1",
   "metadata": {
    "id": "103e7fe1"
   },
   "outputs": [
    {
     "name": "stdout",
     "output_type": "stream",
     "text": [
      "1        0.564286\n",
      "2             NaN\n",
      "3        0.738095\n",
      "4        0.510204\n",
      "7        0.500000\n",
      "           ...   \n",
      "49690    0.800000\n",
      "49691    0.430556\n",
      "49692    0.416667\n",
      "49693    0.440000\n",
      "49694    0.333333\n",
      "Name: product_id, Length: 45573, dtype: float64\n"
     ]
    }
   ],
   "source": [
    "total_orders_products = merge_products_frames[\"product_id\"].value_counts()\n",
    "total_reorders_products = merge_products_frames[merge_products_frames[\"reordered\"] == 1][\"product_id\"].value_counts()\n",
    "reorder_rate_products = total_reorders_products / total_orders_products\n",
    "print(reorder_rate_products)"
   ]
  },
  {
   "cell_type": "markdown",
   "id": "I10dEIAyldcO",
   "metadata": {
    "id": "I10dEIAyldcO"
   },
   "source": [
    "Escribe aquí tus conclusiones\n",
    "\n",
    "Se comprueba como el platano es el producto de los más pedidos."
   ]
  },
  {
   "cell_type": "markdown",
   "id": "subject-boxing",
   "metadata": {
    "id": "subject-boxing"
   },
   "source": [
    "### [C4] Para cada cliente, ¿qué proporción de sus productos ya los había pedido?\n",
    "\n",
    "Para cada cliente, ¿qué proporción de los productos que pidió ya los había pedido? Calcula la tasa de repetición de pedido para cada usuario en lugar de para cada producto."
   ]
  },
  {
   "cell_type": "code",
   "execution_count": 561,
   "id": "medical-couple",
   "metadata": {
    "id": "medical-couple",
    "scrolled": true
   },
   "outputs": [
    {
     "name": "stdout",
     "output_type": "stream",
     "text": [
      "   product_id                product_name  aisle_id  department_id  order_id  \\\n",
      "0           1  Chocolate Sandwich Cookies        61             19   1104373   \n",
      "1           1  Chocolate Sandwich Cookies        61             19   1774977   \n",
      "2           1  Chocolate Sandwich Cookies        61             19    652770   \n",
      "3           1  Chocolate Sandwich Cookies        61             19   1000035   \n",
      "4           1  Chocolate Sandwich Cookies        61             19   1679949   \n",
      "5           1  Chocolate Sandwich Cookies        61             19   3004237   \n",
      "6           1  Chocolate Sandwich Cookies        61             19   2811336   \n",
      "7           1  Chocolate Sandwich Cookies        61             19   2149117   \n",
      "8           1  Chocolate Sandwich Cookies        61             19   1715986   \n",
      "9           1  Chocolate Sandwich Cookies        61             19   1604797   \n",
      "\n",
      "   add_to_cart_order  reordered  \n",
      "0                 11          1  \n",
      "1                  4          1  \n",
      "2                 10          0  \n",
      "3                  6          1  \n",
      "4                  9          0  \n",
      "5                  6          1  \n",
      "6                  1          1  \n",
      "7                  1          1  \n",
      "8                  6          0  \n",
      "9                  6          1  \n"
     ]
    }
   ],
   "source": [
    "print(merge_products_frames.head(10))"
   ]
  },
  {
   "cell_type": "code",
   "execution_count": 562,
   "id": "dd712ef2",
   "metadata": {
    "scrolled": true
   },
   "outputs": [
    {
     "name": "stdout",
     "output_type": "stream",
     "text": [
      "4     0.923077\n",
      "9     0.666667\n",
      "11    1.000000\n",
      "19    1.000000\n",
      "20         NaN\n",
      "31    0.900000\n",
      "48    0.250000\n",
      "56    0.700000\n",
      "61    0.916667\n",
      "68    0.666667\n",
      "75         NaN\n",
      "80    0.857143\n",
      "81    0.818182\n",
      "83    0.357143\n",
      "99    0.285714\n",
      "Name: order_id, dtype: float64\n"
     ]
    }
   ],
   "source": [
    "total_orders_clients = merge_products_frames[\"order_id\"].value_counts()\n",
    "total_reorders_clients = merge_products_frames[merge_products_frames[\"reordered\"] == 1][\"order_id\"].value_counts()\n",
    "reorder_rate_clients = total_reorders_clients / total_orders_clients\n",
    "print(reorder_rate_clients.head(15))"
   ]
  },
  {
   "cell_type": "markdown",
   "id": "BgJSvXDsleXz",
   "metadata": {
    "id": "BgJSvXDsleXz"
   },
   "source": [
    "Escribe aquí tus conclusiones\n",
    "\n",
    "Por ejemplo, el cliente 4 ya habia vuelto a pedir el 92% de sus productos, a diferencia del cliente número 11 el cual ha vuelto a pedir el 100% de sus productos."
   ]
  },
  {
   "cell_type": "markdown",
   "id": "92d35137",
   "metadata": {
    "id": "92d35137"
   },
   "source": [
    "### [C5] ¿Cuáles son los 20 principales artículos que las personas ponen primero en sus carritos?\n"
   ]
  },
  {
   "cell_type": "code",
   "execution_count": 563,
   "id": "0ae57274",
   "metadata": {
    "id": "0ae57274",
    "scrolled": true
   },
   "outputs": [
    {
     "name": "stdout",
     "output_type": "stream",
     "text": [
      "                           product_name  first_added_count\n",
      "product_id                                                \n",
      "24852                            Banana              15562\n",
      "13176            Bag of Organic Bananas              11026\n",
      "27845                Organic Whole Milk               4363\n",
      "21137              Organic Strawberries               3946\n",
      "47209              Organic Hass Avocado               3390\n",
      "21903              Organic Baby Spinach               3336\n",
      "47766                   Organic Avocado               3044\n",
      "19660                      Spring Water               2336\n",
      "16797                      Strawberries               2308\n",
      "27966               Organic Raspberries               2024\n",
      "44632        Sparkling Water Grapefruit               1914\n",
      "49235               Organic Half & Half               1797\n",
      "47626                       Large Lemon               1737\n",
      "196                                Soda               1733\n",
      "38689          Organic Reduced Fat Milk               1397\n",
      "26209                             Limes               1370\n",
      "12341                     Hass Avocados               1340\n",
      "5785        Organic Reduced Fat 2% Milk               1310\n",
      "27086                       Half & Half               1309\n",
      "43352                       Raspberries               1246\n"
     ]
    }
   ],
   "source": [
    "# Filtramos los productos que se agregaron primero en el carrito\n",
    "first_added_products = merge_products_frames[merge_products_frames[\"add_to_cart_order\"] == 1]\n",
    "\n",
    "# Contamos el número de veces que cada producto fue agregago al carrito\n",
    "first_added_counts = first_added_products[\"product_id\"].value_counts()\n",
    "\n",
    "top_20_first_added = first_added_products[first_added_products[\"product_id\"].isin(first_added_counts.index)]\n",
    "top_20_first_added = top_20_first_added[[\"product_id\",\"product_name\"]].drop_duplicates()\n",
    "top_20_first_added = top_20_first_added.set_index(\"product_id\")\n",
    "top_20_first_added[\"first_added_count\"] = first_added_counts\n",
    "\n",
    "print(top_20_first_added.sort_values(\"first_added_count\",ascending=False).head(20))\n"
   ]
  },
  {
   "cell_type": "markdown",
   "id": "28ce9872",
   "metadata": {
    "id": "28ce9872"
   },
   "source": [
    "Escribe aquí tus conclusiones\n",
    "\n",
    "Comprobamos nuevamente que el producto que mas se pide son los platanos. También vemos como el aguacate y la leche entera orgánica se piden mucho."
   ]
  },
  {
   "cell_type": "markdown",
   "id": "cdb2d601",
   "metadata": {},
   "source": [
    " <div class=\"alert alert-block alert-success\">\n",
    "<b>Comentario del revisor</b> <a class=\"tocSkip\"></a>\n",
    "    \n",
    "Buen trabajo en esta sección `C`.\n",
    "</div>"
   ]
  },
  {
   "cell_type": "markdown",
   "id": "uITbFCEoDosC",
   "metadata": {
    "id": "uITbFCEoDosC"
   },
   "source": [
    "### Conclusion general del proyecto:"
   ]
  },
  {
   "cell_type": "markdown",
   "id": "09119361",
   "metadata": {
    "id": "Nk-4GS7mDwqY"
   },
   "source": [
    "El análisis que hicimos al comportamiento de los pedidos nos trajo información muy valiosa. Entre otras cosas, pudimos ver cuales son los productos que piden más así como la frecuencia de compra de los clientes.\n",
    "\n",
    "La importancia de saber que productos son los más solicitados nos pueden ayudar a destinar campañas de publiciad más focalizadas, además si las empresas invierten en publicidad en nuestro sitio, poder mostrarles que tanto se esta vendido su producto y con ello, mostrar de alguna manera la efectividad de la tienda en posicionar la marca.\n",
    "\n",
    "También se puede tener un cierto conocimientos sobre que tipo de personas son las que compran en la tienda, y empezar a traer igual más productos que esten acorde a sus gustos y necesidades, y quitar los que realmente no se venden y nos pueden estar generando costos al tenerlos en nuestro inventario.\n",
    "\n",
    "Otro análisis que se pudo hacer es ver por ejemplo el platano en promedio que día o dias de la semana es cuando se pide más, para con esto, saber cuando y cuanto tendremos que pedir de este producto para siempre tenerlo en stock.\n",
    "\n",
    "Finalmente, con nuestro análisis pudimos obtener información bastante valiosa que podrá servir a tomar decisiones más estrategicas y con mayor beneficio a los clientes y a la empresa.\n",
    "\n"
   ]
  },
  {
   "cell_type": "markdown",
   "id": "5085c099",
   "metadata": {},
   "source": [
    " <div class=\"alert alert-block alert-danger\">\n",
    "    \n",
    "# Comentarios generales\n",
    "<b>Comentario del revisor</b> <a class=\"tocSkip\"></a>\n",
    "    \n",
    "Gran trabajo, David. Nos quedan algunos elementos por corregir. He dejado comentarios a lo largo del documento para ello.\n",
    "    \n",
    "</div>"
   ]
  },
  {
   "cell_type": "markdown",
   "id": "802ee128",
   "metadata": {},
   "source": [
    " <div class=\"alert alert-block alert-success\">\n",
    "    \n",
    "# Comentarios generales\n",
    "<b>Comentario del revisor</b> <a class=\"tocSkip\"></a>\n",
    "    \n",
    "Todo corregido. Has aprobado un nuevo proyecto. ¡Felicitaciones!\n",
    "    \n",
    "</div>"
   ]
  }
 ],
 "metadata": {
  "colab": {
   "provenance": []
  },
  "kernelspec": {
   "display_name": "Python 3 (ipykernel)",
   "language": "python",
   "name": "python3"
  },
  "language_info": {
   "codemirror_mode": {
    "name": "ipython",
    "version": 3
   },
   "file_extension": ".py",
   "mimetype": "text/x-python",
   "name": "python",
   "nbconvert_exporter": "python",
   "pygments_lexer": "ipython3",
   "version": "3.9.5"
  },
  "toc": {
   "base_numbering": 1,
   "nav_menu": {},
   "number_sections": true,
   "sideBar": true,
   "skip_h1_title": true,
   "title_cell": "Table of Contents",
   "title_sidebar": "Contents",
   "toc_cell": false,
   "toc_position": {},
   "toc_section_display": true,
   "toc_window_display": false
  },
  "vscode": {
   "interpreter": {
    "hash": "01a7be9ec63e704a62cefc5fe7a4756944464ee731be31632bdf42a4cb4688cf"
   }
  }
 },
 "nbformat": 4,
 "nbformat_minor": 5
}
